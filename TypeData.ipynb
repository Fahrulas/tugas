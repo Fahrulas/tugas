{
 "cells": [
  {
   "cell_type": "code",
   "execution_count": 5,
   "id": "d54e4291-af37-4ab2-b4b2-6208b52975e4",
   "metadata": {},
   "outputs": [
    {
     "name": "stdout",
     "output_type": "stream",
     "text": [
      "Nama : Deni Aditya\n",
      "Umur : 18\n",
      "Alamat : Lembursitu\n",
      "Nilai Pemrograman : 99.9\n",
      "Status Menikah : False\n"
     ]
    }
   ],
   "source": [
    "name = \"Deni Aditya\"\n",
    "age = 18\n",
    "address,province = \"Lembursitu\",\"7413412\"\n",
    "scorePython = 99.9\n",
    "isMarried = False\n",
    "\n",
    "print(\"Nama :\",name)\n",
    "print(\"Umur :\",age)\n",
    "print(\"Alamat :\",address)\n",
    "print(\"Nilai Pemrograman :\",scorePython)\n",
    "print(\"Status Menikah :\",isMarried)\n",
    "\n"
   ]
  },
  {
   "cell_type": "code",
   "execution_count": 18,
   "id": "5d17060a-b328-460a-a723-1e6310b271f9",
   "metadata": {},
   "outputs": [
    {
     "name": "stdout",
     "output_type": "stream",
     "text": [
      "Tipe Data <name> <class 'str'>\n",
      "Tipe Data <age> <class 'int'>\n",
      "Tipe Data <address> <class 'str'>\n",
      "Tipe Data <province> <class 'str'>\n",
      "Tipe Data <scorePython> <class 'float'>\n",
      "Tipe Data <isMarried> <class 'bool'>\n"
     ]
    }
   ],
   "source": [
    "print(\"Tipe Data <name>\",type(name))\n",
    "print(\"Tipe Data <age>\",type(age))\n",
    "print(\"Tipe Data <address>\",type(address))\n",
    "print(\"Tipe Data <province>\",type(province))\n",
    "print(\"Tipe Data <scorePython>\",type(scorePython))\n",
    "print(\"Tipe Data <isMarried>\",type(isMarried))"
   ]
  },
  {
   "cell_type": "code",
   "execution_count": 56,
   "id": "7e30ff5d-716b-4fdc-9325-29ad85000622",
   "metadata": {},
   "outputs": [
    {
     "name": "stdout",
     "output_type": "stream",
     "text": [
      "7413412-7413412.0-True\n",
      "18-18.0-True\n",
      "99-99.9-True\n",
      "0-0.0-False\n"
     ]
    }
   ],
   "source": [
    "#Casting atau Konversi tipe data\n",
    "#Konversi dari string ke (int,float,bool)\n",
    "strToInt = int(province)\n",
    "strToFloat = float(province)\n",
    "strToBool = bool(province)\n",
    "print(strToInt,strToFloat,strToBool, sep=\"-\")\n",
    "#Konversi dari int ke (str,float,bool)\n",
    "intToStr = str(age)\n",
    "intToFloat = float(age)\n",
    "intToBool = bool(age)\n",
    "print(intToStr,intToFloat,intToBool, sep=\"-\")\n",
    "#Konversi dari float ke (int,str,bool)\n",
    "floatToInt = int(scorePython)\n",
    "floatToStr = str(scorePython)\n",
    "floatToBool = bool(scorePython)\n",
    "print(floatToInt,floatToStr,floatToBool, sep=\"-\")\n",
    "#Konversi dari bool ke (int,str,float)\n",
    "boolToInt = int(isMarried)\n",
    "boolToFloat = float(isMarried)\n",
    "boolToStr = str(isMarried)\n",
    "print(boolToInt,boolToFloat,boolToStr, sep=\"-\")"
   ]
  },
  {
   "cell_type": "code",
   "execution_count": 54,
   "id": "f9d9de52-bcb4-4505-b18d-a85f23e013dd",
   "metadata": {},
   "outputs": [
    {
     "name": "stdout",
     "output_type": "stream",
     "text": [
      "nilai desimal : 500\n",
      "nilai biner : 10\n",
      "nilai octal : 255\n",
      "nilai hexa : 255\n",
      "nilai biner dari  500 : 0b111110100\n",
      "nilai octal dari  500 : 0o764\n",
      "nilai hexa dari  500 : 0x1f4\n"
     ]
    }
   ],
   "source": [
    "#Tipe data basis bilangan (desimal,biner,octal,hexa)\n",
    "desimal = 500\n",
    "biner = 0b1010 #10\n",
    "octal = 0o377 #255\n",
    "hexa = 0xff #255\n",
    "\n",
    "print (\"nilai desimal :\",desimal)\n",
    "print (\"nilai biner :\",biner)\n",
    "print (\"nilai octal :\",octal)\n",
    "print (\"nilai hexa :\",hexa)\n",
    "\n",
    "print (\"nilai biner dari \",desimal, \":\",bin(desimal))\n",
    "print (\"nilai octal dari \",desimal, \":\",oct(desimal))\n",
    "print (\"nilai hexa dari \",desimal, \":\",hex(desimal))"
   ]
  },
  {
   "cell_type": "code",
   "execution_count": 64,
   "id": "0a857e15-c9a3-49c5-89a7-a28619cd6ebb",
   "metadata": {},
   "outputs": [
    {
     "name": "stdout",
     "output_type": "stream",
     "text": [
      "['Bandung', 'Sukabumi', 'Bogor', 'Jakarta', 'Medan']\n",
      "Bandung\n",
      "Medan\n",
      "M\n",
      "n\n",
      "['Bali', 'Sukabumi', 'Bogor', 'Jakarta', 'Medan']\n",
      "('Deni', 'Aditya', 'Saputra')\n",
      "Aditya\n",
      "{'name': 'Nazriel', 'age': 25, 'address': {'street': 'Cisaat', 'number': 21, 'province': 'Jawa Barat'}, 'isMarried': True, 'hobbies': ['Football', 'Gamers', 'Hacker']}\n",
      "25\n",
      "Jawa Barat\n",
      "Football\n",
      "{'name': 'Nazriel', 'age': 25, 'address': {'street': 'Cisaat', 'number': 21, 'province': 'Jawa Barat'}, 'isMarried': False, 'Hobbies': ['Football', 'Gamers', 'Hacker']}\n",
      "{'name': 'Lukman', 'age': 25, 'address': {'street': 'Cisaat', 'number': 21, 'province': 'Jawa Barat'}, 'isMarried': True, 'hobbies': ['Sex', 'Drinker', 'gambler']}\n",
      "Jawa Barat\n"
     ]
    }
   ],
   "source": [
    "#Tipe Data Collection\n",
    "#List\n",
    "cities = [\"Bandung\",\"Sukabumi\",\"Bogor\",\"Jakarta\",\"Medan\"]\n",
    "lengthCities = len(cities)\n",
    "print(cities)\n",
    "print(cities[0])                                                                    \n",
    "print(cities[lengthCities-1])\n",
    "print(cities[lengthCities-1][0])\n",
    "print(cities[lengthCities-1][len(cities[lengthCities-1])-1])\n",
    "cities [0] = \"Bali\"\n",
    "#cities[5] = \"Malang\" akan menyebabkan error out of range\n",
    "print(cities)\n",
    "\n",
    "#tuple\n",
    "names = (\"Deni\",\"Aditya\",\"Saputra\")\n",
    "print(names)\n",
    "print(names[1])\n",
    "#names[0] = \"Dedi\" error immutable tuple\n",
    "\n",
    "#Dictionary\n",
    "studentData = {\n",
    "    \"name\" : \"Nazriel\",\n",
    "    \"age\" : 25,\n",
    "    \"address\" : {\n",
    "        \"street\" : \"Cisaat\",\n",
    "        \"number\" : 21,\n",
    "        \"province\" : \"Jawa Barat\"\n",
    "    },\n",
    "    \"isMarried\" : True,\n",
    "    \"hobbies\" :  [\"Football\",\"Gamers\",\"Hacker\"]\n",
    "}\n",
    "\n",
    "print (studentData)\n",
    "print (studentData[\"age\"])\n",
    "print (studentData[\"address\"][\"province\"])\n",
    "print (studentData[\"hobbies\"][0])\n",
    "\n",
    "#list of Dictionary\n",
    "studentList = [\n",
    "    {    \"name\" : \"Nazriel\",\n",
    "    \"age\" : 25,\n",
    "    \"address\" : {\n",
    "        \"street\" : \"Cisaat\",\n",
    "        \"number\" : 21,\n",
    "        \"province\" : \"Jawa Barat\"\n",
    "    },\n",
    "    \"isMarried\" : False,\n",
    "    \"Hobbies\" : [\"Football\",\"Gamers\",\"Hacker\"]\n",
    "},\n",
    "   {     \"name\" : \"Lukman\",\n",
    "    \"age\" : 25,\n",
    "    \"address\" : {\n",
    "        \"street\" : \"Cisaat\",\n",
    "        \"number\" : 21,\n",
    "        \"province\" : \"Jawa Barat\"\n",
    "    },\n",
    "    \"isMarried\" : True,\n",
    "    \"hobbies\" : [\"Sex\",\"Drinker\",\"gambler\"]\n",
    "}\n",
    "    \n",
    "]\n",
    "print (studentList[0])\n",
    "print (studentList[1])\n",
    "print (studentList[1][\"address\"][\"province\"])\n"
   ]
  },
  {
   "cell_type": "code",
   "execution_count": null,
   "id": "6e06bf06-8db5-43a5-8d97-062a7de8755c",
   "metadata": {},
   "outputs": [],
   "source": [
    "#Konversi dictionary\n",
    "list_list = [[\"Name\",\"Andi\"],[\"Age\",30],[\"Status\",True]]\n",
    "dictListStudent = dict(list_list)\n",
    "print(dictListStudent)\n",
    "\n",
    "list_tuple = [(\"Name\",\"Rudi\"),(\"Address\",\"Bogor\")]\n",
    "dictTupleStudent = dict(list_tuple)\n",
    "print(dictTupleStudent)\n",
    "\n",
    "tuple_list = ([\"Name\",\"tiger\"],[\"Type\",\"Mamalia\"])\n",
    "dictListAnimal = dict(tuple_list)\n",
    "print(dictListAnimal)\n",
    "\n",
    "tuplr_\n"
   ]
  },
  {
   "cell_type": "code",
   "execution_count": null,
   "id": "4b8d7a77-68d6-4285-8ca2-e8e568685854",
   "metadata": {},
   "outputs": [],
   "source": []
  }
 ],
 "metadata": {
  "kernelspec": {
   "display_name": "Python [conda env:base] *",
   "language": "python",
   "name": "conda-base-py"
  },
  "language_info": {
   "codemirror_mode": {
    "name": "ipython",
    "version": 3
   },
   "file_extension": ".py",
   "mimetype": "text/x-python",
   "name": "python",
   "nbconvert_exporter": "python",
   "pygments_lexer": "ipython3",
   "version": "3.12.7"
  }
 },
 "nbformat": 4,
 "nbformat_minor": 5
}
