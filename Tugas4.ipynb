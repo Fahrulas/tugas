{
 "cells": [
  {
   "cell_type": "markdown",
   "id": "7de93409-5a5e-4034-a94a-24284862e7f0",
   "metadata": {},
   "source": [
    "<h1>Operator Aritmatika</h1>"
   ]
  },
  {
   "cell_type": "code",
   "execution_count": 57,
   "id": "91f06c48-b6d8-4c9f-8357-33a0b6668f6f",
   "metadata": {},
   "outputs": [
    {
     "name": "stdout",
     "output_type": "stream",
     "text": [
      "Total apel yang dimiliki Budi sekarang: 12\n",
      "Setiap teman mendapat 3 apel.\n",
      "Total apel yang dimiliki Budi sekarang: 20\n",
      "Setiap teman mendapat 5 apel.\n"
     ]
    }
   ],
   "source": [
    "totalApel = 12\n",
    "jumlahTeman = 4\n",
    "\n",
    "print(f\"Total apel yang dimiliki Budi sekarang: {totalApel}\")\n",
    "apelPerteman = totalApel // jumlahTeman\n",
    "print(f\"Setiap teman mendapat {apelPerteman} apel.\")\n",
    "tambahanApel = 8\n",
    "totalApel += tambahanApel \n",
    "\n",
    "print(f\"Total apel yang dimiliki Budi sekarang: {totalApel}\")\n",
    "apelPerteman = totalApel // jumlahTeman\n",
    "print(f\"Setiap teman mendapat {apelPerteman} apel.\")"
   ]
  },
  {
   "cell_type": "markdown",
   "id": "8b176cb4-7f62-4f69-9e4e-305659657f5d",
   "metadata": {},
   "source": [
    "<h1>Operator Perbandingan</h1>"
   ]
  },
  {
   "cell_type": "code",
   "execution_count": 61,
   "id": "daf41cc7-620d-46b5-80dc-3671eb079bff",
   "metadata": {},
   "outputs": [
    {
     "name": "stdout",
     "output_type": "stream",
     "text": [
      "Andi lebih tinggi dari siti\n"
     ]
    }
   ],
   "source": [
    "Siti = 160\n",
    "Andi = 165\n",
    "\n",
    "if Andi > Siti:\n",
    "    print(\"Andi lebih tinggi dari Siti\")\n",
    "else:\n",
    "    print(\"Siti lebih tinggi dari Andi\")"
   ]
  },
  {
   "cell_type": "markdown",
   "id": "1b6a78ca-5c96-4754-96af-c8608a3dc40f",
   "metadata": {},
   "source": [
    "<h1>Operator Logika</h1>"
   ]
  },
  {
   "cell_type": "code",
   "execution_count": 74,
   "id": "bf14e368-796c-4df7-8f6a-990b6921cc8c",
   "metadata": {},
   "outputs": [
    {
     "name": "stdout",
     "output_type": "stream",
     "text": [
      "budi bisa bermain\n"
     ]
    }
   ],
   "source": [
    "p = \"cuaca cerah\"\n",
    "q = \"pr selesai\"\n",
    "\n",
    "if (p  == \"cuaca cerah\" and q == \"pr selesai\"):\n",
    "    print(\"budi bisa bermain\")\n",
    "else:\n",
    "    print(\"budi tidak bisa bermain\")"
   ]
  },
  {
   "cell_type": "markdown",
   "id": "0796e735-6c07-48ec-bcec-b910ff46b1ee",
   "metadata": {},
   "source": [
    "<h1>Operator Bitwise</h1>"
   ]
  },
  {
   "cell_type": "code",
   "execution_count": 91,
   "id": "a070a19b-05be-40a3-a311-3ec80a0c2284",
   "metadata": {},
   "outputs": [
    {
     "name": "stdin",
     "output_type": "stream",
     "text": [
      "Insert bilangan 1:  12\n",
      "Insert bilangan 2:  12\n"
     ]
    },
    {
     "name": "stdout",
     "output_type": "stream",
     "text": [
      "\n",
      "0b1100\n",
      "0b1100\n",
      "==========  AND\n",
      "0b1100 = 12\n",
      "\n",
      "0b1100\n",
      "0b1100\n",
      "==========  OR\n",
      "0b1100 = 12\n",
      "\n",
      "0b1100\n",
      "0b1100\n",
      "==========  XOR\n",
      "0b0 = 0\n",
      "\n"
     ]
    }
   ],
   "source": [
    "bil1 = int(input(\"Insert bilangan 1: \"))\n",
    "bil2 = int(input(\"Insert bilangan 2: \"))\n",
    "\n",
    "print()\n",
    "bAnd = bil1&bil2\n",
    "print(bin(bil1))\n",
    "print(bin(bil2))\n",
    "print(\"==========  AND\")\n",
    "print(bin(bAnd),\"=\",bAnd)\n",
    "print()\n",
    "bOr = bil1|bil2\n",
    "print(bin(bil1))\n",
    "print(bin(bil2))\n",
    "print(\"==========  OR\")\n",
    "print(bin(bOr),\"=\",bOr)\n",
    "print()\n",
    "bXor = bil1^bil2\n",
    "print(bin(bil1))\n",
    "print(bin(bil2))\n",
    "print(\"==========  XOR\")\n",
    "print(bin(bXor),\"=\",bXor)\n",
    "print()"
   ]
  },
  {
   "cell_type": "markdown",
   "id": "6e95ced5-7139-44fe-826d-71c120115ea4",
   "metadata": {},
   "source": [
    "<h1>Operator Penugasan</h1>"
   ]
  },
  {
   "cell_type": "code",
   "execution_count": 97,
   "id": "902f155a-bf02-4c28-a223-441fc620c28e",
   "metadata": {},
   "outputs": [
    {
     "name": "stdin",
     "output_type": "stream",
     "text": [
      "Masukan nominal pulsa anda : 50000\n"
     ]
    },
    {
     "name": "stdout",
     "output_type": "stream",
     "text": [
      "Saldo pulsa anda adalah:  50000\n",
      "Setelah diisi ulang : 70000\n",
      "Setelah dibelikan kouta (Rp.30.000), sisa pulsa anda adalah:  40000\n"
     ]
    }
   ],
   "source": [
    "pulsa = int(input(\"Jumlah pulsa yang anda miliki :\"))\n",
    "print (\"Saldo pulsa anda adalah: \", pulsa)\n",
    "pulsa += 20000\n",
    "print (\"Setelah diisi ulang :\", pulsa)\n",
    "pulsa -= 30000\n",
    "print (\"Setelah dibelikan kouta (Rp.30.000), sisa pulsa anda adalah: \", pulsa)"
   ]
  },
  {
   "cell_type": "markdown",
   "id": "2b4a7b14-2ec0-4a87-b499-1b6a0cf1cf18",
   "metadata": {},
   "source": [
    "<h1>Operator Keanggotaan</h1>"
   ]
  },
  {
   "cell_type": "code",
   "execution_count": 101,
   "id": "da041edb-4c23-4dd6-834c-e31deace04bc",
   "metadata": {},
   "outputs": [
    {
     "name": "stdin",
     "output_type": "stream",
     "text": [
      "cari peserta : Deni\n"
     ]
    },
    {
     "name": "stdout",
     "output_type": "stream",
     "text": [
      "Deni terdaftar sebagai peserta.\n"
     ]
    }
   ],
   "source": [
    "listPeserta = [\"Deni\",\"Aditya\",\"Saputra\"]\n",
    "findPeserta = input(\"cari peserta :\")\n",
    "peserta = \"terdaftar sebagai peserta.\" if findPeserta in listPeserta else \"tidak terdaftar sebagai peserta.\"\n",
    "print (findPeserta, peserta)"
   ]
  },
  {
   "cell_type": "code",
   "execution_count": 111,
   "id": "eaa401ae-0438-436f-960c-51427bdec7a9",
   "metadata": {},
   "outputs": [
    {
     "name": "stdout",
     "output_type": "stream",
     "text": [
      "Saya suka belajar Python\n",
      "adakah kata Python pada Saya suka belajar Python ?\n",
      "True\n"
     ]
    }
   ],
   "source": [
    "kalimat = \"Saya suka belajar Python\"\n",
    "cek = \"Python\"\n",
    "print (kalimat)\n",
    "print(\"adakah kata\", cek, \"pada\", kalimat,\"?\")\n",
    "print (cek in kalimat)"
   ]
  },
  {
   "cell_type": "markdown",
   "id": "f32e4721-3978-4ac4-b964-37b63d5e4df6",
   "metadata": {},
   "source": [
    "<h1>Operator Identitas</h1>"
   ]
  },
  {
   "cell_type": "code",
   "execution_count": 113,
   "id": "733fa356-88fd-4c19-8e7f-c89ce1db315b",
   "metadata": {},
   "outputs": [
    {
     "name": "stdout",
     "output_type": "stream",
     "text": [
      "apakah nilai nya sama True\n"
     ]
    }
   ],
   "source": [
    "x = 8\n",
    "y = 8\n",
    "\n",
    "print(\"apakah nilai nya sama\", x is y)"
   ]
  },
  {
   "cell_type": "code",
   "execution_count": 117,
   "id": "674f9df9-4fe6-4498-84cd-2880995aac9f",
   "metadata": {},
   "outputs": [
    {
     "name": "stdout",
     "output_type": "stream",
     "text": [
      "[8, 3, 6]\n",
      "[8, 3, 6]\n",
      "apakah list 1 dan list 2 sama:  False\n",
      "apakah list 1 dan list 2 memiliki nilai yang sama: True\n"
     ]
    }
   ],
   "source": [
    "list1 = [8, 3, 6]\n",
    "list2 = [8, 3, 6]\n",
    "\n",
    "print (list1)\n",
    "print (list2)\n",
    "print(\"apakah list 1 dan list 2 sama: \",list1 is list2)\n",
    "print(\"apakah list 1 dan list 2 memiliki nilai yang sama:\",list1 == list2)\n"
   ]
  },
  {
   "cell_type": "markdown",
   "id": "d8d891a4-f105-4f25-97c0-83e56e1e973c",
   "metadata": {},
   "source": [
    "<h1>Operator Ternary:</h1>"
   ]
  },
  {
   "cell_type": "code",
   "execution_count": 119,
   "id": "c31be2ae-d826-45a7-9c82-e868f50db19b",
   "metadata": {},
   "outputs": [
    {
     "name": "stdin",
     "output_type": "stream",
     "text": [
      "Masukan angka: 12\n"
     ]
    },
    {
     "name": "stdout",
     "output_type": "stream",
     "text": [
      "12 Tidak lebih besar dari 100\n"
     ]
    }
   ],
   "source": [
    "angka = int(input(\"Masukan angka:\"))\n",
    "hasil = \"Lebih besar dari 100\" if angka > 100 else \"Tidak lebih besar dari 100\"\n",
    "print(angka, hasil)"
   ]
  },
  {
   "cell_type": "code",
   "execution_count": 123,
   "id": "4851f0f2-a506-4b91-a5d5-bc51d06ac0d0",
   "metadata": {},
   "outputs": [
    {
     "name": "stdin",
     "output_type": "stream",
     "text": [
      "Masukan Nilai: 78\n"
     ]
    },
    {
     "name": "stdout",
     "output_type": "stream",
     "text": [
      "Anda dinyatakan Lulus\n"
     ]
    }
   ],
   "source": [
    "nilai = int(input(\"Masukan Nilai:\"))\n",
    "status = \"Lulus\" if nilai > 70 else \"Tidak Lulus\"\n",
    "print(f\"Anda dinyatakan {status}\")"
   ]
  }
 ],
 "metadata": {
  "kernelspec": {
   "display_name": "Python [conda env:base] *",
   "language": "python",
   "name": "conda-base-py"
  },
  "language_info": {
   "codemirror_mode": {
    "name": "ipython",
    "version": 3
   },
   "file_extension": ".py",
   "mimetype": "text/x-python",
   "name": "python",
   "nbconvert_exporter": "python",
   "pygments_lexer": "ipython3",
   "version": "3.12.7"
  }
 },
 "nbformat": 4,
 "nbformat_minor": 5
}
