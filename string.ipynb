{
 "cells": [
  {
   "cell_type": "code",
   "execution_count": 5,
   "id": "789f4f4e-a2cd-4bd3-a05f-fee5593638bd",
   "metadata": {},
   "outputs": [
    {
     "name": "stdin",
     "output_type": "stream",
     "text": [
      "isi nama anda : 123\n"
     ]
    },
    {
     "name": "stdout",
     "output_type": "stream",
     "text": [
      "Selamat datang 123\n",
      "selamat datang andiselamat datang rudiselamat datang Dina\n",
      "anggur&apel&Semangka\n"
     ]
    }
   ],
   "source": [
    "name = input(\"isi nama anda :\")\n",
    "print (\"Selamat datang\",name)\n",
    "print(\"selamat datang andi\", end ='')\n",
    "print(\"selamat datang rudi\", end ='')\n",
    "print(\"selamat datang Dina\")\n",
    "\n",
    "print (\"anggur\", \"apel\",\"Semangka\", sep ='&' )\n"
   ]
  },
  {
   "cell_type": "code",
   "execution_count": 17,
   "id": "6b7e0b95-6b64-438b-bb8a-ae11cebf3b54",
   "metadata": {},
   "outputs": [
    {
     "name": "stdin",
     "output_type": "stream",
     "text": [
      "isikan bilangan 1: 5\n",
      "isikan bilangan 2: 4\n"
     ]
    },
    {
     "name": "stdout",
     "output_type": "stream",
     "text": [
      "Hasil perhitungan 5 + 5= 9\n"
     ]
    }
   ],
   "source": [
    "val1 = int(input(\"isikan bilangan 1:\"))\n",
    "val2 = int(input(\"isikan bilangan 2:\"))\n",
    "result = val1 + val2\n",
    "print (\"Hasil perhitungan {} + {}= {}\".format(val1,val2,result))"
   ]
  },
  {
   "cell_type": "code",
   "execution_count": 25,
   "id": "5ad8b7d8-df36-4906-a331-ff12e97e295c",
   "metadata": {},
   "outputs": [
    {
     "name": "stdin",
     "output_type": "stream",
     "text": [
      "Isikan nama awal: deni\n",
      "Isikan nama tengah: aditya\n",
      "Isikan nama akhir: saputra\n"
     ]
    },
    {
     "name": "stdout",
     "output_type": "stream",
     "text": [
      "nama lengkap : saputra deni aditya\n",
      "nama lengkap: RudiSuwarnaandi\n"
     ]
    }
   ],
   "source": [
    "#string indeks\n",
    "fname = input(\"Isikan nama awal:\")\n",
    "mname = input(\"Isikan nama tengah:\")\n",
    "lname = input(\"Isikan nama akhir:\")\n",
    "\n",
    "print (\"nama lengkap : {2} {0} {1}\".format(fname,mname,lname))\n",
    "\n",
    "#key\n",
    "print(\"nama lengkap: {depan}{tengah}{belakang}\".format(belakang='andi',depan='Rudi',tengah='Suwarna'))"
   ]
  },
  {
   "cell_type": "code",
   "execution_count": 35,
   "id": "64c21d6b-d76a-4031-83b7-74a614bbcc6a",
   "metadata": {},
   "outputs": [
    {
     "name": "stdin",
     "output_type": "stream",
     "text": [
      "isikan NIM anda: 20240040165\n"
     ]
    },
    {
     "name": "stdout",
     "output_type": "stream",
     "text": [
      "tahun masuk : 2024\n",
      "prodi anda : Teknik Informatika\n",
      "No.Urut : 0165\n",
      "angka NIM paling akhir: 5\n",
      " NIM setelah di reverse: 56104004202\n"
     ]
    }
   ],
   "source": [
    "#slicing\n",
    "nim = input(\"isikan NIM anda:\")\n",
    "tahun = nim[0:4]\n",
    "kodeProdi = nim[4:7]\n",
    "prodi = \"Teknik Informatika\" if kodeProdi==\"004\" else \"tidak keren\"\n",
    "urut = nim[7:]\n",
    "#fstring\n",
    "print(f\"tahun masuk : {tahun}\")\n",
    "print(f\"prodi anda : {prodi}\")\n",
    "print(f\"No.Urut : {urut}\")\n",
    "print(f\"angka NIM paling akhir: {nim[-1]}\")\n",
    "print(f\"NIM setelah di reverse: {nim[::-1]}\")"
   ]
  },
  {
   "cell_type": "code",
   "execution_count": 45,
   "id": "f9a31112-2520-4b5d-ab63-1d221934b04c",
   "metadata": {},
   "outputs": [
    {
     "name": "stdout",
     "output_type": "stream",
     "text": [
      "belajar\n",
      "python\n",
      "itu\n",
      "mudah\n",
      "-1\n"
     ]
    }
   ],
   "source": [
    "#fungsi string\n",
    "#split -> untuk memisahkan string berdasarkan karakter\n",
    "kalimat = \"belajar python itu mudah\"\n",
    "kata = kalimat.split(' ')\n",
    "print(kata[0])\n",
    "print(kata[1])\n",
    "print(kata[2])\n",
    "print(kata[3])\n",
    "\n",
    "#find -> akan menghasilkan posisi/indeks dari sebuah karakter jika ditemukan\n",
    "#find -> akan bernilai -1 jka tidak ditemukan\n",
    "platMotor = \"F9876WE\"\n",
    "print(platMotor.find(\"Z\"))"
   ]
  },
  {
   "cell_type": "code",
   "execution_count": 57,
   "id": "6c76d2c9-5f46-4451-a197-48f3afcf7aaf",
   "metadata": {},
   "outputs": [
    {
     "name": "stdin",
     "output_type": "stream",
     "text": [
      "masukkan anda: uta.@gmail.com\n"
     ]
    },
    {
     "name": "stdout",
     "output_type": "stream",
     "text": [
      "tidak valid\n"
     ]
    }
   ],
   "source": [
    "#validasi email\n",
    "email = input(\"masukkan anda:\")\n",
    "et= email.find('@')\n",
    "ttk = email.find('.')\n",
    "result = \"valid\" if et != 0 and ttk != 0 and et < ttk else \"tidak valid\" \n",
    "print (result)"
   ]
  },
  {
   "cell_type": "code",
   "execution_count": 87,
   "id": "92f5816d-8a9c-4384-bcaa-eb1517825ecb",
   "metadata": {},
   "outputs": [
    {
     "name": "stdout",
     "output_type": "stream",
     "text": [
      "0.774741093204688\n",
      "1\n",
      "Feb\n",
      "['Fri', 5]\n"
     ]
    }
   ],
   "source": [
    "#random\n",
    "import random as r\n",
    "nilai = r.random()#bilangan float 0-1\n",
    "print (nilai)\n",
    "nilaiInt = r.randint(0,10)\n",
    "print(nilaiInt)\n",
    "\n",
    "month = [\"Jan\",\"Feb\",\"Mar\",\"Apr\",\"May\",\"Jun\",\"Jul\",\"Aug\",\"Sep\"]\n",
    "cMonth = r.choice(month)\n",
    "print (cMonth)\n",
    "\n",
    "day = [[\"Mon\",1],[\"Tue\",2],[\"Wed\",3],[\"Thu\",4],[\"Fri\",5],[\"Sat\",6]]\n",
    "cDay = r.choice(day)\n",
    "print (cDay)"
   ]
  },
  {
   "cell_type": "code",
   "execution_count": 130,
   "id": "ff32aec8-ca68-425f-b888-e64c6fc48210",
   "metadata": {},
   "outputs": [
    {
     "name": "stdout",
     "output_type": "stream",
     "text": [
      "berapakah hasil dari 5+2 \n"
     ]
    },
    {
     "name": "stdin",
     "output_type": "stream",
     "text": [
      "masukkan jawaban 7\n"
     ]
    },
    {
     "name": "stdout",
     "output_type": "stream",
     "text": [
      "benar\n"
     ]
    }
   ],
   "source": [
    "import random as r\n",
    "bil1 = r.randint(0,10)\n",
    "bil2 = r.randint(0,10)\n",
    "tmbh = bil1 + bil2\n",
    "print (f\"berapakah hasil dari {bil1}+{bil2} \")\n",
    "hasil = int(input(\"masukkan jawaban\"))\n",
    "print (\"benar\") if hasil == tmbh else(\"salah\")\n",
    "\n",
    "\n"
   ]
  },
  {
   "cell_type": "code",
   "execution_count": 146,
   "id": "a1b1c3c3-fc55-4bb2-a3a9-ec72db538a2e",
   "metadata": {},
   "outputs": [
    {
     "name": "stdout",
     "output_type": "stream",
     "text": [
      "inggris ke indo[1] atau indo ke inggris[2] \n"
     ]
    },
    {
     "name": "stdin",
     "output_type": "stream",
     "text": [
      "pilih 1 atau 2: 4\n"
     ]
    },
    {
     "name": "stdout",
     "output_type": "stream",
     "text": [
      "bahasa inggris dari lari adalah?\n"
     ]
    },
    {
     "name": "stdin",
     "output_type": "stream",
     "text": [
      "masukkan jawaban anda mmk\n"
     ]
    },
    {
     "name": "stdout",
     "output_type": "stream",
     "text": [
      "anda salah\n"
     ]
    }
   ],
   "source": [
    "import random as r \n",
    "print (\"inggris ke indo[1] atau indo ke inggris[2] \")\n",
    "pilih = int(input(\"pilih 1 atau 2:\"))\n",
    "kamus = [[\"lari\",\"run\"],[\"makan\",\"eat\"],[\"minum\",\"drink\"]]\n",
    "ckamus = r.choice(kamus)\n",
    "if pilih == 1:\n",
    "    print (\"bahasa inggris dari\",ckamus[1],\"adalah?\")\n",
    "    jawab = input(\"masukkan jawaban anda\")\n",
    "    result = (\"anda benar\") if jawab == ckamus [0] else \"anda salah\"\n",
    "else :\n",
    "    print (\"bahasa inggris dari\",ckamus[0],\"adalah?\")\n",
    "    jawab = input(\"masukkan jawaban anda\")\n",
    "    result = (\"anda benar\") if jawab == ckamus [1] else \"anda salah\"\n",
    "print(result)"
   ]
  },
  {
   "cell_type": "code",
   "execution_count": null,
   "id": "561f242f-99fa-4811-b859-ede53c1fd27e",
   "metadata": {},
   "outputs": [],
   "source": []
  }
 ],
 "metadata": {
  "kernelspec": {
   "display_name": "Python [conda env:base] *",
   "language": "python",
   "name": "conda-base-py"
  },
  "language_info": {
   "codemirror_mode": {
    "name": "ipython",
    "version": 3
   },
   "file_extension": ".py",
   "mimetype": "text/x-python",
   "name": "python",
   "nbconvert_exporter": "python",
   "pygments_lexer": "ipython3",
   "version": "3.12.7"
  }
 },
 "nbformat": 4,
 "nbformat_minor": 5
}
