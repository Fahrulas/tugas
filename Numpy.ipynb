{
 "cells": [
  {
   "cell_type": "code",
   "execution_count": null,
   "id": "1c919fc6-37ed-428a-bf5b-2b82d90aebc0",
   "metadata": {},
   "outputs": [],
   "source": [
    "import numpy as np"
   ]
  },
  {
   "cell_type": "code",
   "execution_count": null,
   "id": "2c3ddea9-3d4c-42a7-8d9e-61fc7e76731e",
   "metadata": {},
   "outputs": [],
   "source": [
    "mat1D = np.array([1,2,3,4,5,6,7,8,9])\n",
    "mat2D = np.array([[10,20,30,40],[50,60,70,80],[90,100,110,120]])\n"
   ]
  },
  {
   "cell_type": "code",
   "execution_count": null,
   "id": "ab8d257e-ffc5-4d6a-9bd5-0b5fc4654173",
   "metadata": {},
   "outputs": [],
   "source": [
    "print(f\"Nilai mat1D :\\n{mat1D}\")\n",
    "print(f\"Nilai mat2D :\\n{mat2D}\")"
   ]
  },
  {
   "cell_type": "code",
   "execution_count": null,
   "id": "e77feacd-58c0-408a-a619-e36f5f2179fe",
   "metadata": {},
   "outputs": [],
   "source": [
    "print(mat1D[1])\n",
    "print(mat2D[1])\n",
    "print(mat2D[1][2])\n",
    "print(f\"mat1D ditambah dengan 10:\\n{mat1D + 10}\")\n",
    "print(f\"mat2D ditambah dengan 2:\\n{mat2D + 2}\")"
   ]
  },
  {
   "cell_type": "code",
   "execution_count": null,
   "id": "bde4a789-b70f-4e1b-b907-60e1ca5a62eb",
   "metadata": {},
   "outputs": [],
   "source": [
    "print(mat1D.shape)\n",
    "print(mat1D.size)\n",
    "print(f\"bentuk dari mat2d:{mat2D.shape}\")\n",
    "print(f\"ukuran dari mat2d:{mat2D.size}\")"
   ]
  },
  {
   "cell_type": "code",
   "execution_count": null,
   "id": "0052d376-b892-45bc-8138-9d698e633e87",
   "metadata": {},
   "outputs": [],
   "source": [
    "#matrik spesial\n",
    "mZero = np.zeros((4,4))\n",
    "mOne = np.ones((3,3))\n",
    "mIdentity = np.eye((3))\n",
    "mFull = np.full((3,4),9)\n",
    "mRand1D = np.random.rand(5)\n",
    "mRand2D = np.random.rand(3,4)\n",
    "mRandInt1D = np.random.randint(1,100,size=8)\n",
    "mRandInt2D = np.random.randint(1,100,size=(3,3))"
   ]
  },
  {
   "cell_type": "code",
   "execution_count": null,
   "id": "b4368b7a-9c65-4308-a940-000cf3e6474f",
   "metadata": {},
   "outputs": [],
   "source": [
    "print(f\"mZero :\\n{mZero}\")\n",
    "print(f\"mOne :\\n{mOne}\")\n",
    "print(f\"mIdentity :\\n{mIdentity}\")\n",
    "print(f\"mFull :\\n{mFull}\")\n",
    "print(f\"mRand1D :\\n{mRand1D}\")\n",
    "print(f\"mRand2D :\\n{mRand2D}\")\n",
    "print(f\"mRandInt1D :\\n{mRandInt1D}\")\n",
    "print(f\"mRandInt2D :\\n{mRandInt2D}\")\n"
   ]
  },
  {
   "cell_type": "code",
   "execution_count": null,
   "id": "95dfcf92-7d4f-4d0e-afd4-ed8ae8637944",
   "metadata": {},
   "outputs": [],
   "source": [
    "#operasi Aritmatik\n",
    "x = np.array([1,2,3,4,5])\n",
    "y = np.array([6,7,8,9,10])\n",
    "\n",
    "r1= np.add(x,y)\n",
    "r2= np.dot(x,y)\n",
    "\n",
    "print(f\"Hasil Penjumlahan x dan y:{r1}\")\n",
    "print(f\"perkalian dot product x dan y:{r2}\")"
   ]
  },
  {
   "cell_type": "code",
   "execution_count": 80,
   "id": "c548d686-8ae8-45f1-8d1e-1497b43d6490",
   "metadata": {},
   "outputs": [
    {
     "name": "stdout",
     "output_type": "stream",
     "text": [
      "nilai Pemrograman : [100  90  90  50  80  60  50  85]\n",
      "nilai terkecil Pemrograman : 50\n",
      "nilai terbesar Pemrograman : 100\n",
      "nilai rata rata Pemrograman : 75.625\n",
      "total nilai Pemrograman : 605\n",
      "nilai standar deviasi : 18.275239396516806\n",
      "nilai tengah Pemrograman : 82.5\n"
     ]
    }
   ],
   "source": [
    "#Fungsi dasar statistik\n",
    "nilaiProgramming = np.array([100,90,90,50,80,60,50,85])\n",
    "print(f\"nilai Pemrograman : {nilaiProgramming}\")\n",
    "print(f\"nilai terkecil Pemrograman : {np.min(nilaiProgramming)}\")\n",
    "print(f\"nilai terbesar Pemrograman : {np.max(nilaiProgramming)}\")\n",
    "print(f\"nilai rata rata Pemrograman : {np.mean(nilaiProgramming)}\")\n",
    "print(f\"total nilai Pemrograman : {np.sum(nilaiProgramming)}\")\n",
    "print(f\"nilai standar deviasi : {np.std(nilaiProgramming)}\")\n",
    "print(f\"nilai tengah Pemrograman : {np.median(nilaiProgramming)}\")\n"
   ]
  },
  {
   "cell_type": "code",
   "execution_count": 94,
   "id": "66b180eb-c90f-4f71-b9bd-452636596e3f",
   "metadata": {},
   "outputs": [
    {
     "name": "stdout",
     "output_type": "stream",
     "text": [
      "matX adalah:\n",
      "[[ 1  2  3  4  5]\n",
      " [ 6  7  8  9 10]]\n",
      "matX diubah bentuk:\n",
      "[[ 1  2  3  4  5  6  7  8  9 10]]\n",
      "matX diubah menjadi bentuk flat:\n",
      "[ 1  2  3  4  5  6  7  8  9 10]\n"
     ]
    }
   ],
   "source": [
    "#Operasi Bentuk\n",
    "matX = np.array ([[1,2,3,4,5],[6,7,8,9,10]])\n",
    "print(f\"matX adalah:\\n{matX}\")\n",
    "print(f\"matX diubah bentuk:\\n{matX.reshape(1,10)}\")\n",
    "print(f\"matX diubah menjadi bentuk flat:\\n{matX.flatten()}\")\n"
   ]
  },
  {
   "cell_type": "code",
   "execution_count": 98,
   "id": "d08ccbf9-9238-469a-b60f-b745295cadb4",
   "metadata": {},
   "outputs": [
    {
     "name": "stdout",
     "output_type": "stream",
     "text": [
      "daftar nilai yang lulus:[100  90  90  80  60  85]\n",
      "jumlah yang lulus:6\n"
     ]
    }
   ],
   "source": [
    "#filtering\n",
    "lulus = nilaiProgramming[nilaiProgramming > 50]\n",
    "print(f\"daftar nilai yang lulus:{lulus}\")\n",
    "print(f\"jumlah yang lulus:{lulus.size}\")\n"
   ]
  },
  {
   "cell_type": "markdown",
   "id": "6f9aacf2-acb7-43f9-9913-260878c9f752",
   "metadata": {},
   "source": [
    "<b1>Contoh kasus data set </b1>\n",
    "Buatlah data set sebanyak 10.000 untuk proses klasifikasi nasabah kartu kredit\n",
    "<ol>\n",
    "    <li>Usia : 17 - 60</li>\n",
    "    <li>Gennder : L/P</li>\n",
    "    <li>Gaji: 1jt - 3jt,3jt - 5jt,5jt - 10jt</li>\n",
    "    <li>JumlahAnak: 0 - 6</li>\n",
    "    \n",
    "</ol>"
   ]
  },
  {
   "cell_type": "code",
   "execution_count": 144,
   "id": "c0873b0f-65bc-453e-a611-48039bd528ac",
   "metadata": {},
   "outputs": [
    {
     "name": "stdout",
     "output_type": "stream",
     "text": [
      "<class 'pandas.core.frame.DataFrame'>\n",
      "RangeIndex: 10000 entries, 0 to 9999\n",
      "Data columns (total 4 columns):\n",
      " #   Column  Non-Null Count  Dtype \n",
      "---  ------  --------------  ----- \n",
      " 0   usia    10000 non-null  int32 \n",
      " 1   gender  10000 non-null  object\n",
      " 2   gaji    10000 non-null  object\n",
      " 3   anak    10000 non-null  int32 \n",
      "dtypes: int32(2), object(2)\n",
      "memory usage: 234.5+ KB\n",
      "None\n",
      "   usia gender    gaji  anak\n",
      "0    46      P   1-3jt     0\n",
      "1    50      L   1-3jt     0\n",
      "2    55      L   1-3jt     4\n",
      "3    39      P   1-3jt     6\n",
      "4    51      L  5-10jt     1\n",
      "(10000, 4)\n",
      "40000\n",
      "Usia termuda : 17\n",
      "Usia tertua : 60\n",
      "jumlah calon nasabah pria : 4909.0\n",
      "jumlah calon nasabah pria : 4909\n",
      "jumlah calon nasabah perempuan : 5091.0\n",
      "jumlah calon nasabah perempuan : 5091\n"
     ]
    }
   ],
   "source": [
    "import numpy as np\n",
    "import pandas as pd\n",
    "\n",
    "n_data = 10000\n",
    "usia = np.random.randint(17,61,size=n_data)\n",
    "gender = np.random.choice(['L','P'],size=n_data)\n",
    "gaji = np.random.choice(['1-3jt','3-5jt','5-10jt'],size=n_data)\n",
    "anak = np.random.randint(0,7,size=n_data)\n",
    "\n",
    "df = pd.DataFrame({\n",
    "    'usia' : usia,\n",
    "    'gender' : gender,\n",
    "    'gaji' : gaji,\n",
    "    'anak' : anak\n",
    "})\n",
    "\n",
    "df.to_csv('data_calon_nasabah.csv')\n",
    "\n",
    "print(df.info())\n",
    "print(df.head())\n",
    "print(df.shape)\n",
    "print(df.size)\n",
    "\n",
    "#Tampilkan usia calon nasabah yg paling muda\n",
    "print(f\"Usia termuda : {df['usia'].min()}\")\n",
    "#Tampilkan usia calon nasabah yg paling tua\n",
    "print(f\"Usia tertua : {df['usia'].max()}\")\n",
    "\n",
    "#Tampilkan gaji rata rata\n",
    "#tampilkan jumlahlaki laki\n",
    "jmlLaki = df[df['gender']=='L']\n",
    "print (f\"jumlah calon nasabah pria : {jmlLaki.size/4}\")\n",
    "print (f\"jumlah calon nasabah pria : {jmlLaki['gender'].size}\")\n",
    "#Tampilkan jumlah perempuan\n",
    "jmlCewe = df[df['gender']=='P']\n",
    "print (f\"jumlah calon nasabah perempuan : {jmlCewe.size/4}\")\n",
    "print (f\"jumlah calon nasabah perempuan : {jmlCewe['gender'].size}\")"
   ]
  },
  {
   "cell_type": "code",
   "execution_count": null,
   "id": "8ef6ea79-10da-4412-948c-6267c366889a",
   "metadata": {},
   "outputs": [],
   "source": []
  },
  {
   "cell_type": "code",
   "execution_count": null,
   "id": "cd79e78b-333a-459d-84dc-93e1f56aad8e",
   "metadata": {},
   "outputs": [],
   "source": []
  },
  {
   "cell_type": "code",
   "execution_count": null,
   "id": "9eed3006-1615-436a-b1c7-febeb82bf559",
   "metadata": {},
   "outputs": [],
   "source": []
  },
  {
   "cell_type": "code",
   "execution_count": null,
   "id": "656b0e6b-3a6c-46aa-afad-90022d63c7e6",
   "metadata": {},
   "outputs": [],
   "source": []
  }
 ],
 "metadata": {
  "kernelspec": {
   "display_name": "Python [conda env:base] *",
   "language": "python",
   "name": "conda-base-py"
  },
  "language_info": {
   "codemirror_mode": {
    "name": "ipython",
    "version": 3
   },
   "file_extension": ".py",
   "mimetype": "text/x-python",
   "name": "python",
   "nbconvert_exporter": "python",
   "pygments_lexer": "ipython3",
   "version": "3.12.7"
  }
 },
 "nbformat": 4,
 "nbformat_minor": 5
}
