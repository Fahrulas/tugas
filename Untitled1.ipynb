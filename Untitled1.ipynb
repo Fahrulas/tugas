{
 "cells": [
  {
   "cell_type": "code",
   "execution_count": 1,
   "id": "6bdf77bd-7cfc-4b2c-80c7-f6b66a0995e0",
   "metadata": {},
   "outputs": [
    {
     "data": {
      "text/html": [
       "<div>\n",
       "<style scoped>\n",
       "    .dataframe tbody tr th:only-of-type {\n",
       "        vertical-align: middle;\n",
       "    }\n",
       "\n",
       "    .dataframe tbody tr th {\n",
       "        vertical-align: top;\n",
       "    }\n",
       "\n",
       "    .dataframe thead th {\n",
       "        text-align: right;\n",
       "    }\n",
       "</style>\n",
       "<table border=\"1\" class=\"dataframe\">\n",
       "  <thead>\n",
       "    <tr style=\"text-align: right;\">\n",
       "      <th></th>\n",
       "      <th>Hours</th>\n",
       "      <th>Scores</th>\n",
       "    </tr>\n",
       "  </thead>\n",
       "  <tbody>\n",
       "    <tr>\n",
       "      <th>0</th>\n",
       "      <td>1.1</td>\n",
       "      <td>41</td>\n",
       "    </tr>\n",
       "    <tr>\n",
       "      <th>1</th>\n",
       "      <td>1.2</td>\n",
       "      <td>40</td>\n",
       "    </tr>\n",
       "    <tr>\n",
       "      <th>2</th>\n",
       "      <td>1.4</td>\n",
       "      <td>38</td>\n",
       "    </tr>\n",
       "    <tr>\n",
       "      <th>3</th>\n",
       "      <td>1.5</td>\n",
       "      <td>39</td>\n",
       "    </tr>\n",
       "    <tr>\n",
       "      <th>4</th>\n",
       "      <td>1.6</td>\n",
       "      <td>36</td>\n",
       "    </tr>\n",
       "  </tbody>\n",
       "</table>\n",
       "</div>"
      ],
      "text/plain": [
       "   Hours  Scores\n",
       "0    1.1      41\n",
       "1    1.2      40\n",
       "2    1.4      38\n",
       "3    1.5      39\n",
       "4    1.6      36"
      ]
     },
     "execution_count": 1,
     "metadata": {},
     "output_type": "execute_result"
    }
   ],
   "source": [
    "import pandas as pd\n",
    "df = pd.read_csv('rounded_hours_student_scores.csv')\n",
    "df.head()"
   ]
  },
  {
   "cell_type": "code",
   "execution_count": null,
   "id": "ed078fa9-078f-42a0-a1e7-6c91f8f46bd5",
   "metadata": {},
   "outputs": [],
   "source": [
    "print(\"Statistik Jam yang digunakan untuk belajar:\")\n",
    "print(df['Hours'].describe())\n",
    "print(\"\\nStatistik Nilai:\")\n",
    "print(df['Scores'].describe())"
   ]
  },
  {
   "cell_type": "code",
   "execution_count": null,
   "id": "cc119d3e-16e2-42be-9d42-917808795c5f",
   "metadata": {},
   "outputs": [],
   "source": [
    "from sklearn.linear_model import LinearRegression\n",
    "import numpy as np\n",
    "\n",
    "X = df[['Hours']] # Variabel independen harus 2D\n",
    "y = df['Scores']       # Variabel dependen\n",
    "\n",
    "model = LinearRegression()\n",
    "model.fit(X, y)\n",
    "\n",
    "beta_0 = model.intercept_\n",
    "beta_1 = model.coef_[0]\n",
    "\n",
    "print(f\"Persamaan Regresi: Jam Belajar = {beta_0:.2f} + {beta_1:.2f} * Nilai\")"
   ]
  },
  {
   "cell_type": "code",
   "execution_count": null,
   "id": "8b507481-43a7-4f90-8cc2-339d79448d92",
   "metadata": {},
   "outputs": [],
   "source": [
    "import matplotlib.pyplot as plt\n",
    "import seaborn as sns\n",
    "\n",
    "plt.figure(figsize=(10, 6))\n",
    "sns.regplot(x='Hours', y='Scores', data=df, ci=None, line_kws={\"color\": \"red\"})\n",
    "plt.title('Hubungan Jam Belajar dan Nilai', fontsize=16)\n",
    "plt.xlabel('Jam Belajar', fontsize=12)\n",
    "plt.ylabel('Nilai', fontsize=12)\n",
    "plt.grid(True, linestyle='--', alpha=0.7)\n",
    "plt.annotate(f'Jam Belajar = {beta_0:.2f} + {beta_1:.2f} * Nilai',\n",
    "             xy=(0.55, 0.9), xycoords='axes fraction', fontsize=12, color='blue')\n",
    "plt.show()"
   ]
  },
  {
   "cell_type": "code",
   "execution_count": null,
   "id": "a30485bc-fdda-48ff-a1d9-44f28a319623",
   "metadata": {},
   "outputs": [],
   "source": []
  }
 ],
 "metadata": {
  "kernelspec": {
   "display_name": "Python [conda env:base] *",
   "language": "python",
   "name": "conda-base-py"
  },
  "language_info": {
   "codemirror_mode": {
    "name": "ipython",
    "version": 3
   },
   "file_extension": ".py",
   "mimetype": "text/x-python",
   "name": "python",
   "nbconvert_exporter": "python",
   "pygments_lexer": "ipython3",
   "version": "3.12.7"
  }
 },
 "nbformat": 4,
 "nbformat_minor": 5
}
