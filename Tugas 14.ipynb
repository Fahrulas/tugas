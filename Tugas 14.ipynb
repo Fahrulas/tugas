{
 "cells": [
  {
   "cell_type": "code",
   "execution_count": 5,
   "id": "e96bf546-2d59-4aed-9b07-da24fb17de6b",
   "metadata": {},
   "outputs": [
    {
     "name": "stdout",
     "output_type": "stream",
     "text": [
      "=== MENU ===\n",
      "1. Tambah Data\n",
      "2. Tampilkan Data\n",
      "3. Keluar\n"
     ]
    },
    {
     "name": "stdin",
     "output_type": "stream",
     "text": [
      "Masukkan Pilihan Anda :  2\n"
     ]
    },
    {
     "name": "stdout",
     "output_type": "stream",
     "text": [
      "\n",
      " Data Mahasiswa:\n",
      "NIM: 12345678901, Nama: denias, Alamat: akuakuakuaku, Kelas: TI24\n",
      "\n",
      "=== MENU ===\n",
      "1. Tambah Data\n",
      "2. Tampilkan Data\n",
      "3. Keluar\n"
     ]
    },
    {
     "name": "stdin",
     "output_type": "stream",
     "text": [
      "Masukkan Pilihan Anda :  3\n"
     ]
    },
    {
     "name": "stdout",
     "output_type": "stream",
     "text": [
      "Keluar dari program.\n"
     ]
    }
   ],
   "source": [
    "def tambah_data():\n",
    "    try:\n",
    "        nim = input(\"NIM (11 digit): \")\n",
    "        nama = input(\"Nama (min 6 huruf): \")\n",
    "        alamat = input(\"Alamat (min 10 huruf): \")\n",
    "        kelas = input(\"Kelas (TI23 / TI24): \")\n",
    "\n",
    "        if not (nim.isdigit() and len(nim) == 11):\n",
    "            raise ValueError(\"NIM harus 11 digit.\")\n",
    "        if len(nama) < 6:\n",
    "            raise ValueError(\"Nama minimal 6 karakter.\")\n",
    "        if len(alamat) < 10:\n",
    "            raise ValueError(\"Alamat minimal 10 karakter.\")\n",
    "        if kelas not in [\"TI23\", \"TI24\"]:\n",
    "            raise ValueError(\"Kelas hanya boleh TI23 atau TI24.\")\n",
    "\n",
    "        with open(\"mahasiswa.txt\", \"a\") as f:\n",
    "            f.write(f\"{nim},{nama},{alamat},{kelas}\\n\")\n",
    "        print(\"Data berhasil disimpan.\\n\")\n",
    "\n",
    "    except ValueError as e:\n",
    "        print(f\" Error: {e}\\n\")\n",
    "\n",
    "def tampilkan_data():\n",
    "    try:\n",
    "        with open(\"mahasiswa.txt\", \"r\") as f:\n",
    "            print(\"\\n Data Mahasiswa:\")\n",
    "            for line in f:\n",
    "                nim, nama, alamat, kelas = line.strip().split(\",\")\n",
    "                print(f\"NIM: {nim}, Nama: {nama}, Alamat: {alamat}, Kelas: {kelas}\")\n",
    "            print()\n",
    "    except FileNotFoundError:\n",
    "        print(\"Belum ada data tersimpan.\\n\")\n",
    "\n",
    "def menu():\n",
    "    while True:\n",
    "        print(\"=== MENU ===\")\n",
    "        print(\"1. Tambah Data\")\n",
    "        print(\"2. Tampilkan Data\")\n",
    "        print(\"3. Keluar\")\n",
    "        pilih = input(\"Masukkan Pilihan Anda : \")\n",
    "\n",
    "        if pilih == \"1\":\n",
    "            tambah_data()\n",
    "        elif pilih == \"2\":\n",
    "            tampilkan_data()\n",
    "        elif pilih == \"3\":\n",
    "            print(\"Keluar dari program.\")\n",
    "            break\n",
    "        else:\n",
    "            print(\"Pilihan tidak valid.\\n\")\n",
    "\n",
    "menu()\n"
   ]
  }
 ],
 "metadata": {
  "kernelspec": {
   "display_name": "Python [conda env:base] *",
   "language": "python",
   "name": "conda-base-py"
  },
  "language_info": {
   "codemirror_mode": {
    "name": "ipython",
    "version": 3
   },
   "file_extension": ".py",
   "mimetype": "text/x-python",
   "name": "python",
   "nbconvert_exporter": "python",
   "pygments_lexer": "ipython3",
   "version": "3.12.7"
  }
 },
 "nbformat": 4,
 "nbformat_minor": 5
}
