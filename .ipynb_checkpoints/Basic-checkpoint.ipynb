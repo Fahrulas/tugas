{
 "cells": [
  {
   "cell_type": "code",
   "execution_count": 1,
   "id": "3c3d1c86-327a-4878-b01c-3addbded1289",
   "metadata": {
    "scrolled": true
   },
   "outputs": [
    {
     "name": "stdout",
     "output_type": "stream",
     "text": [
      "Nama : Deni\n",
      "Umur : 18\n",
      "Alamat : lembursitu\n",
      "Nilai : 89.5\n",
      "Status Menikah : False\n",
      "Type Data <name> <class 'str'>\n",
      "Type Data <age> <class 'int'>\n",
      "Type Data <address> <class 'str'>\n",
      "Type Data <nilai> <class 'float'>\n",
      "Type Data <isMarried> <class 'bool'>\n"
     ]
    }
   ],
   "source": [
    "name = \"Deni\"\n",
    "age = 18\n",
    "address,province = \"lembursitu\", \"4210121\"\n",
    "scorePython = 89.5\n",
    "isMarried = False\n",
    "\n",
    "print(\"Nama :\", name)\n",
    "print(\"Umur :\", age)\n",
    "print(\"Alamat :\", address)\n",
    "print(\"Nilai :\", scorePython)\n",
    "print(\"Status Menikah :\", isMarried)\n",
    "\n",
    "print(\"Type Data <name>\", type(name))\n",
    "print(\"Type Data <age>\", type(age))\n",
    "print(\"Type Data <address>\", type(address))\n",
    "print(\"Type Data <nilai>\", type(scorePython))\n",
    "print(\"Type Data <isMarried>\", type(isMarried))\n"
   ]
  },
  {
   "cell_type": "code",
   "execution_count": 28,
   "id": "4b70c075-6223-428e-8827-384b115860d2",
   "metadata": {},
   "outputs": [
    {
     "name": "stdout",
     "output_type": "stream",
     "text": [
      "4210121-4210121.0-True\n",
      "4210121-18.0-True\n",
      "84.5-84-True\n",
      "False-0.0-0\n"
     ]
    }
   ],
   "source": [
    "#Konversi dari sString ke INT,Float, Bool\n",
    "strToInt = int(province)\n",
    "strToFloat = float(province)\n",
    "strToBool = bool(province)\n",
    "print(strToInt, strToFloat,strToBool, sep=\"-\")\n",
    "\n",
    "#Konversi dari int ke Str,float,bool\n",
    "intToStr = str(age)\n",
    "intToFloat = float(age)\n",
    "intToBool = bool(age)\n",
    "print(strToInt, intToFloat, intToBool, sep=\"-\")\n",
    "\n",
    "#Konversi dari Float ke Str,int,bool\n",
    "floatToStr = str(scorePython)\n",
    "floatToInt = int(scorePython)\n",
    "floatToBool = bool(scorePython)\n",
    "print(floatToStr, floatToInt, floatToBool, sep=\"-\")\n",
    "\n",
    "#Konversi dari int ke Str,float,bool\n",
    "boolToStr = str(isMarried)\n",
    "boolToFloat = float(isMarried)\n",
    "boolToInt = int(isMarried)\n",
    "print(boolToStr, boolToFloat, boolToInt, sep=\"-\")\n",
    "\n"
   ]
  },
  {
   "cell_type": "code",
   "execution_count": 34,
   "id": "1c53f7f0-378e-401b-a6b8-3a881fa74830",
   "metadata": {},
   "outputs": [
    {
     "name": "stdout",
     "output_type": "stream",
     "text": [
      "Nilai desimal :  500\n",
      "Nilai biner :  10\n",
      "Nilai octal :  255\n",
      "Nilai hexa :  255\n",
      "Nilai binner dari  500 : 0b111110100\n",
      "Nilai octal dari  500 : 0o764\n",
      "Nilai hexa dari  500 : 0x1f4\n"
     ]
    }
   ],
   "source": [
    "#type data basis bilangan\n",
    "\n",
    "desimal = 500\n",
    "biner = 0b1010 #10\n",
    "octal = 0o377 #255\n",
    "hexa = 0xff #255\n",
    "\n",
    "print(\"Nilai desimal : \", desimal)\n",
    "print(\"Nilai biner : \", biner)\n",
    "print(\"Nilai octal : \", octal)\n",
    "print(\"Nilai hexa : \", hexa)\n",
    "\n",
    "print(\"Nilai binner dari \", desimal, \":\", bin(desimal))\n",
    "print(\"Nilai octal dari \", desimal, \":\", oct(desimal))\n",
    "print(\"Nilai hexa dari \", desimal, \":\", hex(desimal))"
   ]
  },
  {
   "cell_type": "code",
   "execution_count": 3,
   "id": "75146cde-39af-48ad-8ccd-635af7d0dbae",
   "metadata": {},
   "outputs": [
    {
     "name": "stdout",
     "output_type": "stream",
     "text": [
      "['Bandung', 'Jakarta', 'Sukabumi', 'Bogor', 'Bali']\n",
      "Bandung\n",
      "Bali\n",
      "B\n",
      "i\n",
      "['Depok', 'Jakarta', 'Sukabumi', 'Bogor', 'Bali']\n",
      "('Deni', 'Gidzan', 'Naufal')\n",
      "Gidzan\n",
      "{'name': 'Deni', 'age': 18, 'address': {'street': 'Jl.Lembursitu', 'number': 1, 'province': 'Jawa Barat'}, 'isMarried': False, 'hobbies': ['Gaming']}\n",
      "18\n",
      "Jawa Barat\n",
      "Gaming\n",
      "{'name': 'Naufal', 'age': 19, 'address': {'street': 'Sukabumi', 'number': 12, 'province': 'Jawa Barat'}, 'isMarried': False, 'hobbies': ['jadi Vtuber', 'Gaming']}\n",
      "{'name': 'Dzann', 'age': 19, 'address': {'street': 'Sukabumi', 'number': 123, 'province': 'Jawa Barat'}, 'isMarried': False, 'hobbies': ['Ngaca', 'Gaming']}\n",
      "Jawa Barat\n"
     ]
    }
   ],
   "source": [
    "#type Data Collection\n",
    "\n",
    "#list\n",
    "cities = [\"Bandung\", \"Jakarta\", \"Sukabumi\", \"Bogor\", \"Bali\"]\n",
    "lengthCities = len(cities)\n",
    "print(cities)\n",
    "print(cities[0])\n",
    "print(cities[lengthCities-1])\n",
    "print(cities[lengthCities-1][0])\n",
    "print(cities[lengthCities-1] [len(cities[lengthCities-1])-1])\n",
    "cities[0] = \"Depok\"\n",
    "print (cities)\n",
    "\n",
    "#tuple\n",
    "names = (\"Deni\", \"Gidzan\", \"Naufal\")\n",
    "print(names)\n",
    "print(names[1])\n",
    "\n",
    "#Disctionary\n",
    "studentData = {\n",
    "    \"name\" : \"Deni\",\n",
    "    \"age\" : 18,\n",
    "    \"address\" : {\n",
    "        \"street\" : \"Jl.Lembursitu\",\n",
    "        \"number\" : 1,\n",
    "        \"province\" : \"Jawa Barat\"\n",
    "    },\n",
    "    \"isMarried\" : False,\n",
    "    \"hobbies\" : [\"Gaming\"]\n",
    "}\n",
    "\n",
    "print(studentData)\n",
    "print(studentData[\"age\"])\n",
    "print(studentData[\"address\"] [\"province\"])\n",
    "print(studentData[\"hobbies\"][0])\n",
    "\n",
    "\n",
    "#listDictinary\n",
    "studentList = [\n",
    "    {\n",
    "        \"name\" : \"Naufal\",\n",
    "        \"age\" : 19,\n",
    "        \"address\" : {\n",
    "            \"street\" : \"Sukabumi\",\n",
    "            \"number\" : 12,\n",
    "            \"province\" : \"Jawa Barat\"\n",
    "        },\n",
    "        \"isMarried\" : False,\n",
    "        \"hobbies\" : [\"jadi Vtuber\",\"Gaming\"]\n",
    "    },\n",
    "    {\n",
    "        \"name\" : \"Dzann\",\n",
    "        \"age\" : 19,\n",
    "        \"address\" : {\n",
    "            \"street\" : \"Sukabumi\",\n",
    "            \"number\" : 123,\n",
    "            \"province\" : \"Jawa Barat\"\n",
    "        },\n",
    "        \"isMarried\" : False,\n",
    "        \"hobbies\" : [\"Ngaca\",\"Gaming\"]\n",
    "    },\n",
    "]\n",
    "print(studentList[0])\n",
    "print(studentList[1])\n",
    "print(studentList[1][\"address\"][\"province\"])"
   ]
  },
  {
   "cell_type": "code",
   "execution_count": 7,
   "id": "a8459d2b-cd6b-4ded-ba94-48d04406661c",
   "metadata": {},
   "outputs": [
    {
     "name": "stdout",
     "output_type": "stream",
     "text": [
      "{'Name': 'Deni', 'Age': 19, 'Status': True}\n",
      "{'Name': 'Deni', 'Address': ' Sukabumi'}\n",
      "{'Name': 'Cow', 'Type': 'Mamalia'}\n",
      "{'Name': 'Snake', 'Type': 'Reptil'}\n",
      "{'Vehicle': 'MotorCycle', 'Brand': 'Ducati', 'CC': 1500}\n"
     ]
    }
   ],
   "source": [
    "#Conversi Dictionary\n",
    "\n",
    "list_list = [[\"Name\", \"Deni\"], [\"Age\",19], [\"Status\", True]]\n",
    "dictListStudent = dict(list_list)\n",
    "print(dictListStudent)\n",
    "\n",
    "list_tuple = [(\"Name\", \"Deni\"), (\"Address\",\" Sukabumi\")]\n",
    "dictTupleStudent = dict(list_tuple)\n",
    "print(dictTupleStudent)\n",
    "\n",
    "tuple_list = ([\"Name\", \"Cow\"], [\"Type\",\"Mamalia\"])\n",
    "dictListAnimal = dict(tuple_list)\n",
    "print(dictListAnimal)\n",
    "\n",
    "tuple_tuple = ((\"Name\",\"Snake\"),(\"Type\",\"Reptil\"))\n",
    "dictTupleAnimal = dict(tuple_tuple)\n",
    "print(dictTupleAnimal)\n",
    "\n",
    "keys = [\"Vehicle\", \"Brand\", \"CC\"]\n",
    "values = [\"MotorCycle\", \"Ducati\", 1500]\n",
    "car = dict(zip(keys,values))\n",
    "print(car)"
   ]
  },
  {
   "cell_type": "code",
   "execution_count": null,
   "id": "deefee7c-72d5-41ad-aea8-89ecc788be76",
   "metadata": {},
   "outputs": [],
   "source": []
  }
 ],
 "metadata": {
  "kernelspec": {
   "display_name": "Python [conda env:base] *",
   "language": "python",
   "name": "conda-base-py"
  },
  "language_info": {
   "codemirror_mode": {
    "name": "ipython",
    "version": 3
   },
   "file_extension": ".py",
   "mimetype": "text/x-python",
   "name": "python",
   "nbconvert_exporter": "python",
   "pygments_lexer": "ipython3",
   "version": "3.12.7"
  }
 },
 "nbformat": 4,
 "nbformat_minor": 5
}
