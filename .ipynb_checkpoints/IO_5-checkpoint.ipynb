{
 "cells": [
  {
   "cell_type": "code",
   "execution_count": 33,
   "id": "19e7b978-b76d-425b-9655-f08703d00b38",
   "metadata": {},
   "outputs": [
    {
     "name": "stdin",
     "output_type": "stream",
     "text": [
      "Masukkan Nama Anda:  deni aditya\n",
      "Masukkan Kampus Anda nusa putra\n",
      "Masukkan NIM Anda 20240040165\n",
      "Masukkan Umur Anda:  19\n",
      "Masukkan Alamat Anda:  lembursitu\n"
     ]
    },
    {
     "name": "stdout",
     "output_type": "stream",
     "text": [
      "=== Biodata Anda ===\n",
      "Nama      : deni aditya\n",
      "NIM      : 20240040165\n",
      "tahun masuk : 2024\n",
      "prodi anda : Teknik Informatika\n",
      "Umur      : 19\n",
      "Alamat    : lembursitu  \n"
     ]
    }
   ],
   "source": [
    "#NO 1\n",
    "nama = input(\"Masukkan Nama Anda: \")\n",
    "kampus = input(\"Masukkan Kampus Anda\")\n",
    "nim =input(\"Masukkan NIM Anda\")\n",
    "tahun = nim[0:4]\n",
    "kodeProdi = nim[4:7]\n",
    "prodi = \"Teknik Informatika\" if kodeProdi==\"004\" else \"tidak terdaftar\"\n",
    "umur = int(input(\"Masukkan Umur Anda: \"))\n",
    "alamat = input(\"Masukkan Alamat Anda: \")\n",
    "\n",
    "print(\"=== Biodata Anda ===\")\n",
    "print(f\"Nama      : {nama}\"  )\n",
    "print(f\"NIM      : {nim}\"  )\n",
    "print(f\"tahun masuk : {tahun}\")\n",
    "print(f\"prodi anda : {prodi}\")\n",
    "print(f\"Umur      : {umur}\"  )\n",
    "print(f\"Alamat    : {alamat}  \" )\n",
    "\n",
    "\n"
   ]
  },
  {
   "cell_type": "code",
   "execution_count": 11,
   "id": "cfc4d17a-ef7d-4b0e-882c-7b202e840b2c",
   "metadata": {},
   "outputs": [
    {
     "name": "stdout",
     "output_type": "stream",
     "text": [
      "UNIVERSITAS NUSA PUTRA SUKABUMI\n",
      "a. putra nusa\n",
      "b. NIVERSITAS NSA PTRA SKABMI\n",
      "c. SUKABUMI PUTRA NUSA UNIVERSITAS\n",
      "d. UNPS\n",
      "e. TAS SAPU BUMI\n"
     ]
    }
   ],
   "source": [
    "#NO 2\n",
    "kalimat = \"UNIVERSITAS NUSA PUTRA SUKABUMI\"\n",
    "print(kalimat)\n",
    "kata= kalimat.split(' ')\n",
    "# a. putra nusa \n",
    "print(\"a. \"+kata[2].lower()+\" \"+kata[1].lower())\n",
    "\n",
    "# b. NIVERSITAS NSA PTRA SKABMI \n",
    "print(\"b. \"+kalimat.replace(\"U\", \"\"))\n",
    "\n",
    "#c. SUKABUMI PUTRA NUSA UNIVERSITAS\n",
    "c = \" \".join(kata[::-1]) \n",
    "print(\"c. \"+c)\n",
    "\n",
    "# d. UNPS \n",
    "print(\"d. \"+kata[0][0] + kata[1][0] + kata[2][0] + kata[3][0])\n",
    "\n",
    "# e. TAS SAPU BUMI \n",
    "print(\"e. \"+kata[0][-3:] + \" \" + kata[1][-2:]+kata[2][:2] + \" \" + kata[3][-4:])"
   ]
  }
 ],
 "metadata": {
  "kernelspec": {
   "display_name": "Python [conda env:base] *",
   "language": "python",
   "name": "conda-base-py"
  },
  "language_info": {
   "codemirror_mode": {
    "name": "ipython",
    "version": 3
   },
   "file_extension": ".py",
   "mimetype": "text/x-python",
   "name": "python",
   "nbconvert_exporter": "python",
   "pygments_lexer": "ipython3",
   "version": "3.12.7"
  }
 },
 "nbformat": 4,
 "nbformat_minor": 5
}
