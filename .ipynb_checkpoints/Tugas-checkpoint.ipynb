{
 "cells": [
  {
   "cell_type": "markdown",
   "id": "096635c3-1cd6-4299-b1f0-dfafd9fc13db",
   "metadata": {},
   "source": [
    "Esbuah[]10k\n",
    "Esteler[]15k\n",
    "Eskelapa[]20k\n",
    "\n",
    "Esbuah 2*10k =20k\n",
    "Esteler 3*15k =45k\n",
    "EsKelapa 4*20k =80k           \n",
    "Total Harga=145k\n",
    "=>100000>10%\n",
    "Disc=14,5k\n",
    "Total Bayar"
   ]
  },
  {
   "cell_type": "code",
   "execution_count": 25,
   "id": "89ce2cca-eccb-432b-8a16-f66ac29e67c2",
   "metadata": {},
   "outputs": [
    {
     "name": "stdin",
     "output_type": "stream",
     "text": [
      "Jumlah Es Buah : 2\n",
      "Jumlah Es Teler : 2\n",
      "Jumlah Es Kelapa : 2\n"
     ]
    },
    {
     "name": "stdout",
     "output_type": "stream",
     "text": [
      "Harga Es Buah Yang Dibeli: 20000\n",
      "Harga Es Teler Yang Dibeli: 30000\n",
      "Harga Es Kelapa Yang Dibeli: 40000\n",
      "Total Harga: 90000\n",
      "Diskon: 0\n",
      "Total Bayar: 90000\n"
     ]
    }
   ],
   "source": [
    "esBuah = int(input(\"Jumlah Es Buah :\"))\n",
    "esTeler = int(input(\"Jumlah Es Teler :\"))\n",
    "esKelapa = int(input(\"Jumlah Es Kelapa :\"))\n",
    "\n",
    "esb = 10000 * esBuah\n",
    "est = 15000 * esTeler\n",
    "esk = 20000 * esKelapa\n",
    "totalHarga = esb+est+esk\n",
    "diskon = totalHarga*1/10 if totalHarga >=100000 else 0\n",
    "totalBayar = totalHarga - diskon\n",
    "\n",
    "print (\"Harga Es Buah Yang Dibeli:\", esb)\n",
    "print (\"Harga Es Teler Yang Dibeli:\",est)\n",
    "print (\"Harga Es Kelapa Yang Dibeli:\",esk)\n",
    "print (\"Total Harga:\", totalHarga)\n",
    "print (\"Diskon:\", diskon)\n",
    "print (\"Total Bayar:\",totalBayar)"
   ]
  },
  {
   "cell_type": "code",
   "execution_count": 43,
   "id": "da2c39df-2480-44f9-9893-471aa2a4e430",
   "metadata": {},
   "outputs": [
    {
     "name": "stdin",
     "output_type": "stream",
     "text": [
      " 1234\n"
     ]
    },
    {
     "name": "stdout",
     "output_type": "stream",
     "text": [
      " 10\n",
      " 1224\n"
     ]
    }
   ],
   "source": [
    "bil = (input())\n",
    "kurang = int(bil[0])+int(bil[1])+int(bil[2])+int(bil[3])\n",
    "hasil = int(bil) - kurang\n",
    "print(\"\",kurang)\n",
    "print (\"\",hasil)"
   ]
  }
 ],
 "metadata": {
  "kernelspec": {
   "display_name": "Python [conda env:base] *",
   "language": "python",
   "name": "conda-base-py"
  },
  "language_info": {
   "codemirror_mode": {
    "name": "ipython",
    "version": 3
   },
   "file_extension": ".py",
   "mimetype": "text/x-python",
   "name": "python",
   "nbconvert_exporter": "python",
   "pygments_lexer": "ipython3",
   "version": "3.12.7"
  }
 },
 "nbformat": 4,
 "nbformat_minor": 5
}
