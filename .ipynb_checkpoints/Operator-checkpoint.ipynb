{
 "cells": [
  {
   "cell_type": "markdown",
   "id": "1ba8d1cb-69ef-4683-8898-6678d82a0c62",
   "metadata": {},
   "source": [
    "<h1>Aritmatika</h1>"
   ]
  },
  {
   "cell_type": "code",
   "execution_count": 16,
   "id": "beeea5a3-ab2b-463a-845d-f47262bea291",
   "metadata": {},
   "outputs": [
    {
     "name": "stdin",
     "output_type": "stream",
     "text": [
      "Isikan Nilai X: 10\n",
      "Isikan Nilai Y: 3\n"
     ]
    },
    {
     "name": "stdout",
     "output_type": "stream",
     "text": [
      "Hasil Penjumlahan 10 + 3 = 13\n",
      "Hasil Pengurangan 10 - 3 = 7\n",
      "Hasil Perkalian 10 * 3 = 30\n",
      "Hasil Pembagian 10 / 3 = 3.3333333333333335\n",
      "Hasil Modulus 10 % 3 = 1\n",
      "Hasil Pangkat 10 ^ 3 = 1000\n",
      "Hasil Pembagian Bulat 10 // 3 = 3\n"
     ]
    }
   ],
   "source": [
    "x = int(input (\"Isikan Nilai X:\"))\n",
    "y = int(input (\"Isikan Nilai Y:\"))\n",
    "\n",
    "hasilTambah = x+y;\n",
    "hasilKurang = x-y;\n",
    "hasilKali = x*y;\n",
    "hasilBagi = x/y;\n",
    "hasilMod = x%y;\n",
    "hasilPangkat = x ** y;\n",
    "hasilBagiBulat = x // y;\n",
    "\n",
    "print (\"Hasil Penjumlahan\" ,x,\"+\",y, \"=\",hasilTambah)\n",
    "print (\"Hasil Pengurangan\" ,x,\"-\",y, \"=\",hasilKurang)\n",
    "print (\"Hasil Perkalian\" ,x,\"*\",y, \"=\",hasilKali)\n",
    "print (\"Hasil Pembagian\" ,x,\"/\",y, \"=\",hasilBagi)\n",
    "print (\"Hasil Modulus\" ,x,\"%\",y, \"=\",hasilMod)\n",
    "print (\"Hasil Pangkat\" ,x,\"^\",y, \"=\",hasilPangkat)\n",
    "print (\"Hasil Pembagian Bulat\" ,x,\"//\",y, \"=\",hasilBagiBulat)\n"
   ]
  },
  {
   "cell_type": "markdown",
   "id": "fd616530-f4c5-4384-8821-09b3507ca507",
   "metadata": {},
   "source": [
    "<h1>Penugasan</h1>"
   ]
  },
  {
   "cell_type": "code",
   "execution_count": 22,
   "id": "0617fa99-66b1-4dc4-bfc6-6e7d6c04107e",
   "metadata": {},
   "outputs": [
    {
     "name": "stdin",
     "output_type": "stream",
     "text": [
      "Isikan Nilai : 6\n"
     ]
    },
    {
     "name": "stdout",
     "output_type": "stream",
     "text": [
      "Nilai dari variabel 'number'  6\n",
      "Setelah ditambah dengan 5: 11\n",
      "Kemudian dikurangi 10: 1\n",
      "Selanjutnya dibagi 2: 0.5\n",
      "Terakhir dikalikan 5: 2.5\n"
     ]
    }
   ],
   "source": [
    "number = int(input(\"Isikan Nilai :\"))\n",
    "print(\"Nilai dari variabel 'number' \",number)\n",
    "number+=5\n",
    "print(\"Setelah ditambah dengan 5:\",number)\n",
    "number-=10\n",
    "print(\"Kemudian dikurangi 10:\",number)\n",
    "number/=2\n",
    "print(\"Selanjutnya dibagi 2:\",number)\n",
    "number*=5\n",
    "print(\"Terakhir dikalikan 5:\",number)\n"
   ]
  },
  {
   "cell_type": "markdown",
   "id": "36296a9e-dc76-460e-849a-9fed1085aeaf",
   "metadata": {},
   "source": [
    "<h1>Perbandingan</h1>"
   ]
  },
  {
   "cell_type": "code",
   "execution_count": 29,
   "id": "2e176785-d12e-4e92-bbb8-de8fe486bfd4",
   "metadata": {},
   "outputs": [
    {
     "name": "stdin",
     "output_type": "stream",
     "text": [
      "Isikan nilai Val1: 6\n",
      "Isikan nilai Val2: 3\n"
     ]
    },
    {
     "name": "stdout",
     "output_type": "stream",
     "text": [
      "Apakah 6 > 3 ? True\n",
      "Apakah 6 < 3 ? False\n",
      "Apakah 6 >= 3 ? True\n",
      "Apakah 6 <= 3 ? False\n",
      "Apakah 6 == 3 ? False\n",
      "Apakah 6 != 3 ? True\n"
     ]
    }
   ],
   "source": [
    "val1 = int(input(\"Isikan nilai Val1:\"))\n",
    "val2 = int(input(\"Isikan nilai Val2:\"))\n",
    "\n",
    "print(\"Apakah\",val1,\">\",val2,\"?\", val1 > val2)\n",
    "print(\"Apakah\",val1,\"<\",val2,\"?\", val1 < val2)\n",
    "print(\"Apakah\",val1,\">=\",val2,\"?\", val1 >= val2)\n",
    "print(\"Apakah\",val1,\"<=\",val2,\"?\", val1 <= val2)\n",
    "print(\"Apakah\",val1,\"==\",val2,\"?\", val1 == val2)\n",
    "print(\"Apakah\",val1,\"!=\",val2,\"?\", val1 != val2)"
   ]
  },
  {
   "cell_type": "code",
   "execution_count": 39,
   "id": "6272e935-0158-4bce-8c03-ba7f765ee73c",
   "metadata": {},
   "outputs": [
    {
     "name": "stdin",
     "output_type": "stream",
     "text": [
      "Isikan number1: 7\n",
      "Isikan number2: 3\n",
      "Isikan number3: 9\n",
      "Isikan number4: 9\n"
     ]
    },
    {
     "name": "stdout",
     "output_type": "stream",
     "text": [
      "Apakah 7 > 3 and 9 == 9 ?\n",
      "True\n",
      "Apakah 7 > 3 or 9 == 9 ?\n",
      "True\n",
      "Apakah 7 > 3 not and 9 == 9 ?\n",
      "False\n"
     ]
    }
   ],
   "source": [
    "number1 =int(input(\"Isikan number1:\"))\n",
    "number2 =int(input(\"Isikan number2:\"))\n",
    "number3 =int(input(\"Isikan number3:\"))\n",
    "number4 =int(input(\"Isikan number4:\"))\n",
    "#and\n",
    "print(\"Apakah\",number1,\">\",number2,\"and\",number3,\"==\",number4,\"?\")\n",
    "print(number1>number2 and number3==number4)\n",
    "\n",
    "#or\n",
    "print(\"Apakah\",number1,\">\",number2,\"or\",number3,\"==\",number4,\"?\")\n",
    "print(number1>number2 or number3==number4)\n",
    "\n",
    "#nand (not and)\n",
    "print(\"Apakah\",number1,\">\",number2,\"not and\",number3,\"==\",number4,\"?\")\n",
    "print(not (number1>number2 and number3==number4))"
   ]
  },
  {
   "cell_type": "markdown",
   "id": "dcb0d531-9ce0-429a-8307-b43a43d2e3ca",
   "metadata": {},
   "source": [
    "<h1>Identitas</h1>"
   ]
  },
  {
   "cell_type": "code",
   "execution_count": null,
   "id": "02919045-7800-41ca-ba76-18fe97a3dbf6",
   "metadata": {},
   "outputs": [],
   "source": [
    "idty1 = 10\n",
    "idty2 = \"10\"\n",
    "idty3 = idty1\n",
    "\n",
    "print (\"Alamat memory idty1\",id (idty1))\n",
    "print (\"Alamat memory idty2\",id (idty2))\n",
    "print (\"Alamat memory idty3\",id (idty3))\n",
    "print (\"Apakah idty1 is idty2\",idty1 is idty2)\n",
    "print (\"Apakah idty2 is idty3\",idty2 is idty3)\n",
    "print (\"Apakah idty3 is idty1\",idty3 is idty1)\n",
    "\n",
    "print (\"Apakah idty1 is not idty2\",idty1 is not idty2)\n",
    "print (\"Apakah idty2 is not idty3\",idty2 is not idty3)\n",
    "print (\"Apakah idty3 is not idty1\",idty3 is not idty1)"
   ]
  },
  {
   "cell_type": "markdown",
   "id": "5ac7e79b-46f6-4ddc-b657-2aba48133453",
   "metadata": {},
   "source": [
    "<h1>Keanggotaan</h1>"
   ]
  },
  {
   "cell_type": "code",
   "execution_count": 55,
   "id": "711b4c47-8d24-46fc-937d-bf9e0a126e2c",
   "metadata": {},
   "outputs": [
    {
     "name": "stdin",
     "output_type": "stream",
     "text": [
      "insert your fruit: Manggo\n"
     ]
    },
    {
     "name": "stdout",
     "output_type": "stream",
     "text": [
      "Is There Any Manggo in ['Watermelon', 'Manggo', 'Star Fruit', 'Pineapple'] ? True\n",
      "Is There Any Manggo not in ['Watermelon', 'Manggo', 'Star Fruit', 'Pineapple'] ? False\n"
     ]
    }
   ],
   "source": [
    "listFruit = [\"Watermelon\",\"Manggo\",\"Star Fruit\",\"Pineapple\"]\n",
    "findFruit = input(\"insert your fruit:\")\n",
    "print(\"Is There Any\",findFruit,\"in\" ,listFruit,\"?\", findFruit in listFruit)\n",
    "print(\"Is There Any\",findFruit,\"not in\" ,listFruit,\"?\", findFruit not in listFruit)"
   ]
  },
  {
   "cell_type": "code",
   "execution_count": 59,
   "id": "fb0ef74b-c080-48b5-9e02-e9dbb247d9be",
   "metadata": {
    "scrolled": true
   },
   "outputs": [
    {
     "name": "stdin",
     "output_type": "stream",
     "text": [
      "insert bilangan 1; 10\n",
      "insert bilangan 2; 12\n"
     ]
    },
    {
     "name": "stdout",
     "output_type": "stream",
     "text": [
      "0b1010\n",
      "0b1100\n",
      "========&\n",
      "0b1000 = 8\n",
      "\n",
      "0b1010\n",
      "0b1100\n",
      "========|\n",
      "0b1110 = 14\n"
     ]
    }
   ],
   "source": [
    "#Operator Bitwise\n",
    "num1 = int(input(\"insert bilangan 1;\"))\n",
    "num2 = int(input(\"insert bilangan 2;\"))\n",
    "\n",
    "bAnd =num1 & num2\n",
    "print (bin(num1))\n",
    "print (bin(num2))\n",
    "print (\"========&\")\n",
    "print (bin(bAnd),\"=\",bAnd)\n",
    "print()\n",
    "bOr =num1 | num2\n",
    "print (bin(num1))\n",
    "print (bin(num2))\n",
    "print (\"========|\")\n",
    "print (bin(bOr),\"=\",bOr)"
   ]
  },
  {
   "cell_type": "markdown",
   "id": "07d745fa-6efd-4b1a-add7-0e84399931b9",
   "metadata": {},
   "source": [
    "<h1>Ternary</h1>"
   ]
  },
  {
   "cell_type": "code",
   "execution_count": 64,
   "id": "a8f27bfb-0453-4751-8ac8-f51f3288b72f",
   "metadata": {},
   "outputs": [
    {
     "name": "stdin",
     "output_type": "stream",
     "text": [
      "Isikan Bilangan: 999999999999\n"
     ]
    },
    {
     "name": "stdout",
     "output_type": "stream",
     "text": [
      "999999999999 adalah bilangan Ganjil\n"
     ]
    }
   ],
   "source": [
    "#bilangan Ganjil atau genap\n",
    "bil = int(input(\"Isikan Bilangan:\"))\n",
    "oddEven = \"Genap\" if bil %2==0 else \"Ganjil\"\n",
    "print (bil,\"adalah bilangan\",oddEven)"
   ]
  },
  {
   "cell_type": "markdown",
   "id": "309e145e-c610-4219-bf74-346106f5f335",
   "metadata": {},
   "source": [
    "<h1>Tugas</h1>"
   ]
  },
  {
   "cell_type": "code",
   "execution_count": 69,
   "id": "1a4841e9-7741-48bb-a496-b023829f63bd",
   "metadata": {},
   "outputs": [
    {
     "name": "stdin",
     "output_type": "stream",
     "text": [
      "Jumlah Es Buah : 1\n",
      "Jumlah Es Teler : 2\n",
      "Jumlah Es Kelapa : 3\n"
     ]
    },
    {
     "name": "stdout",
     "output_type": "stream",
     "text": [
      "Harga Es Buah Yang Dibeli: 10000\n",
      "Harga Es Teler Yang Dibeli: 30000\n",
      "Harga Es Kelapa Yang Dibeli: 60000\n",
      "Total Harga: 100000\n",
      "Diskon: 10000.0\n",
      "Total Bayar: 90000.0\n"
     ]
    }
   ],
   "source": [
    "esBuah = int(input(\"Jumlah Es Buah :\"))\n",
    "esTeler = int(input(\"Jumlah Es Teler :\"))\n",
    "esKelapa = int(input(\"Jumlah Es Kelapa :\"))\n",
    "\n",
    "esb = 10000 * esBuah\n",
    "est = 15000 * esTeler\n",
    "esk = 20000 * esKelapa\n",
    "totalHarga = esb+est+esk\n",
    "diskon = totalHarga*1/10 if totalHarga >=100000 else 0\n",
    "totalBayar = totalHarga - diskon\n",
    "\n",
    "print (\"Harga Es Buah Yang Dibeli:\", esb)\n",
    "print (\"Harga Es Teler Yang Dibeli:\",est)\n",
    "print (\"Harga Es Kelapa Yang Dibeli:\",esk)\n",
    "print (\"Total Harga:\", totalHarga)\n",
    "print (\"Diskon:\", diskon)\n",
    "print (\"Total Bayar:\",totalBayar)"
   ]
  },
  {
   "cell_type": "code",
   "execution_count": 71,
   "id": "93ed972f-4baa-4a2b-ada2-7dda961cb5d9",
   "metadata": {},
   "outputs": [
    {
     "name": "stdin",
     "output_type": "stream",
     "text": [
      " 1234\n"
     ]
    },
    {
     "name": "stdout",
     "output_type": "stream",
     "text": [
      " 10\n",
      " 1224\n"
     ]
    }
   ],
   "source": [
    "bil = (input())\n",
    "kurang = int(bil[0])+int(bil[1])+int(bil[2])+int(bil[3])\n",
    "hasil = int(bil) - kurang\n",
    "print(\"\",kurang)\n",
    "print (\"\",hasil)"
   ]
  }
 ],
 "metadata": {
  "kernelspec": {
   "display_name": "Python [conda env:base] *",
   "language": "python",
   "name": "conda-base-py"
  },
  "language_info": {
   "codemirror_mode": {
    "name": "ipython",
    "version": 3
   },
   "file_extension": ".py",
   "mimetype": "text/x-python",
   "name": "python",
   "nbconvert_exporter": "python",
   "pygments_lexer": "ipython3",
   "version": "3.12.7"
  }
 },
 "nbformat": 4,
 "nbformat_minor": 5
}
