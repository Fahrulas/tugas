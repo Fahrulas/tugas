{
 "cells": [
  {
   "cell_type": "code",
   "execution_count": 21,
   "id": "a58dca81-3ffe-441e-a2b6-c376c449889a",
   "metadata": {},
   "outputs": [
    {
     "name": "stdin",
     "output_type": "stream",
     "text": [
      "Isikan umur anda 13\n"
     ]
    },
    {
     "name": "stdout",
     "output_type": "stream",
     "text": [
      "kategori :Remaja\n"
     ]
    }
   ],
   "source": [
    "umur = int(input(\"Isikan umur anda\"))\n",
    "if umur > 59:\n",
    "    kategori= \"Lansia\"\n",
    "elif umur >17:\n",
    "    kategori = \"Dewasa\"\n",
    "elif umur >12:\n",
    "    kategori = \"Remaja\"\n",
    "elif umur >=0:\n",
    "    kategori= \"Anak-anak\"\n",
    "else:\n",
    "    kategori= \"Umur tidak valid\"\n",
    "print(f\"kategori :{kategori}\")"
   ]
  },
  {
   "cell_type": "code",
   "execution_count": 37,
   "id": "842072fe-2495-4eb0-bd5a-325600164374",
   "metadata": {},
   "outputs": [
    {
     "name": "stdin",
     "output_type": "stream",
     "text": [
      "masukkan umur pengunjung: 12\n",
      "masukkan umur pengunjung: 23\n",
      "masukkan umur pengunjung: 56\n"
     ]
    },
    {
     "name": "stdout",
     "output_type": "stream",
     "text": [
      "tiket 1: Tiket Anak-anak| harga 10000\n",
      "tiket 2: Tiket Dewasa| harga 25000\n",
      "tiket 3: Tiket Dewasa| harga 25000\n",
      "Total harga tiket yang harus dibayar:60000\n"
     ]
    }
   ],
   "source": [
    "tiket1 = int(input(\"masukkan umur pengunjung:\"))\n",
    "tiket2 = int(input(\"masukkan umur pengunjung:\"))\n",
    "tiket3 = int(input(\"masukkan umur pengunjung:\"))\n",
    "total=0\n",
    "\n",
    "if tiket1> 59:\n",
    "    keterangan1= \"Tiket Lansia\"\n",
    "    harga1 = 0\n",
    "elif tiket1> 17:\n",
    "    keterangan1= \"Tiket Dewasa\"\n",
    "    harga1 = 25_000\n",
    "elif tiket1> 12:\n",
    "    keterangan1= \"Tiket Remaja\"\n",
    "    harga1 = 15_000\n",
    "elif tiket1>= 0:\n",
    "    keterangan1= \"Tiket Anak-anak\"\n",
    "    harga1 = 10_000\n",
    "total+= harga1\n",
    "\n",
    "if tiket2> 59:\n",
    "    keterangan2= \"Tiket Lansia\"\n",
    "    harga2 = 0\n",
    "elif tiket2> 17:\n",
    "    keterangan2= \"Tiket Dewasa\"\n",
    "    harga2 = 25_000\n",
    "elif tiket2> 12:\n",
    "    keterangan2= \"Tiket Remaja\"\n",
    "    harga2 = 15_000\n",
    "elif tiket2>= 0:\n",
    "    keterangan2=\"Tiket Anak-anak\"\n",
    "    harga2 = 10_000\n",
    "total+= harga2\n",
    "\n",
    "if tiket3> 59:\n",
    "    keterangan3= \"Tiket Lansia\"\n",
    "    harga3 = 0\n",
    "elif tiket3> 17:\n",
    "    keterangan3= \"Tiket Dewasa\"\n",
    "    harga3= 25_000\n",
    "elif tiket3> 12:\n",
    "    keterangan3= \"Tiket Remaja\"\n",
    "    harga3 = 15_000\n",
    "elif tiket3>= 0:\n",
    "    keterangan3= \"Tiket Anak-anak\"\n",
    "    harga3 = 10_000\n",
    "total+= harga3\n",
    "\n",
    "print(f\"tiket 1: {keterangan1}| harga {harga1}\")\n",
    "print(f\"tiket 2: {keterangan2}| harga {harga2}\")\n",
    "print(f\"tiket 3: {keterangan3}| harga {harga3}\")\n",
    "print(f\"Total harga tiket yang harus dibayar:{total}\")"
   ]
  },
  {
   "cell_type": "code",
   "execution_count": 51,
   "id": "f3495278-1fe3-4ba2-ba3d-d774d2635e12",
   "metadata": {},
   "outputs": [
    {
     "name": "stdin",
     "output_type": "stream",
     "text": [
      "Isikan Pembayaran UKT:  10000000\n",
      "Isikan penghasilan ortu:  7000000\n",
      "Isikan nilai rapor siswa : 95\n"
     ]
    },
    {
     "name": "stdout",
     "output_type": "stream",
     "text": [
      "Uang UKT :10000000\n",
      "Nilai Rapor : 95\n",
      "penghasilan Ortu : 7000000\n",
      "beasiswa : Beasiswa 50%\n",
      "total bayar : 10000000.0\n"
     ]
    }
   ],
   "source": [
    "ukt = int(input(\"Isikan Pembayaran UKT: \"))\n",
    "penghasilan = int(input(\"Isikan penghasilan ortu: \"))\n",
    "nilaiRapor = int(input(\"Isikan nilai rapor siswa :\"))\n",
    "beasiswa = 0\n",
    "\n",
    "if nilaiRapor >=90 :\n",
    "    if penghasilan <=5_000_000:\n",
    "        beasiswa = 100\n",
    "        keterangan =\"Beasiswa Penuh\"\n",
    "                 \n",
    "elif nilaiRapor >=85 :\n",
    "    if penghasilan <=8_000_000:\n",
    "        beasiswa = 50\n",
    "        keterangan =\"Beasiswa 50%\"\n",
    "\n",
    "else:\n",
    "    keterangan =\"tidak mendapatkan beasiswa\"\n",
    "\n",
    "total = ukt - (ukt*(beasiswa/100))\n",
    "print(f\"Uang UKT :{ukt}\")\n",
    "print(f\"Nilai Rapor : {nilaiRapor}\")\n",
    "print(f\"penghasilan Ortu : {penghasilan}\")\n",
    "print(f\"beasiswa : {keterangan}\")\n",
    "print(f\"total bayar : {total}\")"
   ]
  },
  {
   "cell_type": "code",
   "execution_count": 53,
   "id": "2fb9753c-9be8-45dc-baa5-ab039e1caf6d",
   "metadata": {},
   "outputs": [
    {
     "name": "stdin",
     "output_type": "stream",
     "text": [
      "Isikan Jenis Kendaraan motor\n",
      "Isikan jam masuk 8\n",
      "Isikan jam keluar 16\n"
     ]
    },
    {
     "name": "stdout",
     "output_type": "stream",
     "text": [
      "total biaya parkir :26000\n"
     ]
    }
   ],
   "source": [
    "jenis = input(\"Isikan Jenis Kendaraan\")\n",
    "jamMasuk = int(input(\"Isikan jam masuk\"))\n",
    "jamKeluar = int(input(\"Isikan jam keluar\"))\n",
    "\n",
    "harga=0\n",
    "total=0\n",
    "tambahan=0\n",
    "if jamMasuk>=jamKeluar:\n",
    "    print(\"input jam tidak valid\")\n",
    "else:\n",
    "    if jenis == \"motor\":\n",
    "        harga = 2000\n",
    "    elif jenis == \"mobil\":\n",
    "        harga = 5000\n",
    "    else:\n",
    "        print(\"jenis kendaraan tidak ada\")\n",
    "        harga = 0\n",
    "\n",
    "lama = jamKeluar-jamMasuk\n",
    "if lama> 5:\n",
    "    tambahan = 10000\n",
    "else:\n",
    "    tambahan = 0\n",
    "\n",
    "\n",
    "print(f\"total biaya parkir :{lama*harga+tambahan}\")\n"
   ]
  },
  {
   "cell_type": "code",
   "execution_count": 139,
   "id": "9a335a78-7cf8-4d7b-87b6-78fb427bfc79",
   "metadata": {},
   "outputs": [
    {
     "name": "stdin",
     "output_type": "stream",
     "text": [
      "masukkan no punggung anda 45\n"
     ]
    },
    {
     "name": "stdout",
     "output_type": "stream",
     "text": [
      "no 45 posisi anda adalah defender keeper\n"
     ]
    }
   ],
   "source": [
    "nopung = int(input(\"masukkan no punggung anda\"))\n",
    "\n",
    "if nopung % 2==0:\n",
    "    info1 =\"attacker\"\n",
    "    if 50<= nopung <=100:\n",
    "        info2 = \"dan layak sebagai captain tim\"\n",
    "elif nopung %2==1:\n",
    "    info1 = \"defender\"\n",
    "    if nopung >90:\n",
    "        info2 = \"playmaker\"\n",
    "    elif nopung %3==0 or nopung %5==0:\n",
    "        info2 = \"keeper\"\n",
    "else:\n",
    "    print(\"tidak valid\")\n",
    "    \n",
    "print(f\"no {nopung} posisi anda adalah {info1} dan {info2}\")\n",
    "\n"
   ]
  }
 ],
 "metadata": {
  "kernelspec": {
   "display_name": "Python [conda env:base] *",
   "language": "python",
   "name": "conda-base-py"
  },
  "language_info": {
   "codemirror_mode": {
    "name": "ipython",
    "version": 3
   },
   "file_extension": ".py",
   "mimetype": "text/x-python",
   "name": "python",
   "nbconvert_exporter": "python",
   "pygments_lexer": "ipython3",
   "version": "3.12.7"
  }
 },
 "nbformat": 4,
 "nbformat_minor": 5
}
