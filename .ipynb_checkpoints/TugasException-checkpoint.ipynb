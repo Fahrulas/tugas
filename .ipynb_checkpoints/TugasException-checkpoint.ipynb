{
 "cells": [
  {
   "cell_type": "code",
   "execution_count": 5,
   "id": "714c2348-4218-4c40-a6fa-dba5eefc3862",
   "metadata": {},
   "outputs": [
    {
     "data": {
      "text/html": [
       "<div>\n",
       "<style scoped>\n",
       "    .dataframe tbody tr th:only-of-type {\n",
       "        vertical-align: middle;\n",
       "    }\n",
       "\n",
       "    .dataframe tbody tr th {\n",
       "        vertical-align: top;\n",
       "    }\n",
       "\n",
       "    .dataframe thead th {\n",
       "        text-align: right;\n",
       "    }\n",
       "</style>\n",
       "<table border=\"1\" class=\"dataframe\">\n",
       "  <thead>\n",
       "    <tr style=\"text-align: right;\">\n",
       "      <th></th>\n",
       "      <th>Time_spent_Alone</th>\n",
       "      <th>Stage_fear</th>\n",
       "      <th>Social_event_attendance</th>\n",
       "      <th>Going_outside</th>\n",
       "      <th>Drained_after_socializing</th>\n",
       "      <th>Friends_circle_size</th>\n",
       "      <th>Post_frequency</th>\n",
       "      <th>Personality</th>\n",
       "    </tr>\n",
       "  </thead>\n",
       "  <tbody>\n",
       "    <tr>\n",
       "      <th>0</th>\n",
       "      <td>4.0</td>\n",
       "      <td>No</td>\n",
       "      <td>4.0</td>\n",
       "      <td>6.0</td>\n",
       "      <td>No</td>\n",
       "      <td>13.0</td>\n",
       "      <td>5.0</td>\n",
       "      <td>Extrovert</td>\n",
       "    </tr>\n",
       "    <tr>\n",
       "      <th>1</th>\n",
       "      <td>9.0</td>\n",
       "      <td>Yes</td>\n",
       "      <td>0.0</td>\n",
       "      <td>0.0</td>\n",
       "      <td>Yes</td>\n",
       "      <td>0.0</td>\n",
       "      <td>3.0</td>\n",
       "      <td>Introvert</td>\n",
       "    </tr>\n",
       "    <tr>\n",
       "      <th>2</th>\n",
       "      <td>9.0</td>\n",
       "      <td>Yes</td>\n",
       "      <td>1.0</td>\n",
       "      <td>2.0</td>\n",
       "      <td>Yes</td>\n",
       "      <td>5.0</td>\n",
       "      <td>2.0</td>\n",
       "      <td>Introvert</td>\n",
       "    </tr>\n",
       "    <tr>\n",
       "      <th>3</th>\n",
       "      <td>0.0</td>\n",
       "      <td>No</td>\n",
       "      <td>6.0</td>\n",
       "      <td>7.0</td>\n",
       "      <td>No</td>\n",
       "      <td>14.0</td>\n",
       "      <td>8.0</td>\n",
       "      <td>Extrovert</td>\n",
       "    </tr>\n",
       "    <tr>\n",
       "      <th>4</th>\n",
       "      <td>3.0</td>\n",
       "      <td>No</td>\n",
       "      <td>9.0</td>\n",
       "      <td>4.0</td>\n",
       "      <td>No</td>\n",
       "      <td>8.0</td>\n",
       "      <td>5.0</td>\n",
       "      <td>Extrovert</td>\n",
       "    </tr>\n",
       "  </tbody>\n",
       "</table>\n",
       "</div>"
      ],
      "text/plain": [
       "   Time_spent_Alone Stage_fear  Social_event_attendance  Going_outside  \\\n",
       "0               4.0         No                      4.0            6.0   \n",
       "1               9.0        Yes                      0.0            0.0   \n",
       "2               9.0        Yes                      1.0            2.0   \n",
       "3               0.0         No                      6.0            7.0   \n",
       "4               3.0         No                      9.0            4.0   \n",
       "\n",
       "  Drained_after_socializing  Friends_circle_size  Post_frequency Personality  \n",
       "0                        No                 13.0             5.0   Extrovert  \n",
       "1                       Yes                  0.0             3.0   Introvert  \n",
       "2                       Yes                  5.0             2.0   Introvert  \n",
       "3                        No                 14.0             8.0   Extrovert  \n",
       "4                        No                  8.0             5.0   Extrovert  "
      ]
     },
     "execution_count": 5,
     "metadata": {},
     "output_type": "execute_result"
    }
   ],
   "source": [
    "import pandas as pd\n",
    "\n",
    "df = pd.read_csv(\"personality_dataset.csv\")\n",
    "\n",
    "df.head()\n"
   ]
  },
  {
   "cell_type": "code",
   "execution_count": 7,
   "id": "b2a7524e-f2e3-4f12-82ee-1fc3e8a9e5d0",
   "metadata": {},
   "outputs": [
    {
     "name": "stdout",
     "output_type": "stream",
     "text": [
      "\n",
      "Tabel Rata-Rata Berdasarkan Kepribadian:\n"
     ]
    },
    {
     "data": {
      "text/html": [
       "<div>\n",
       "<style scoped>\n",
       "    .dataframe tbody tr th:only-of-type {\n",
       "        vertical-align: middle;\n",
       "    }\n",
       "\n",
       "    .dataframe tbody tr th {\n",
       "        vertical-align: top;\n",
       "    }\n",
       "\n",
       "    .dataframe thead th {\n",
       "        text-align: right;\n",
       "    }\n",
       "</style>\n",
       "<table border=\"1\" class=\"dataframe\">\n",
       "  <thead>\n",
       "    <tr style=\"text-align: right;\">\n",
       "      <th></th>\n",
       "      <th>Personality</th>\n",
       "      <th>Time_spent_Alone</th>\n",
       "      <th>Social_event_attendance</th>\n",
       "      <th>Going_outside</th>\n",
       "      <th>Friends_circle_size</th>\n",
       "      <th>Post_frequency</th>\n",
       "    </tr>\n",
       "  </thead>\n",
       "  <tbody>\n",
       "    <tr>\n",
       "      <th>0</th>\n",
       "      <td>Extrovert</td>\n",
       "      <td>2.067261</td>\n",
       "      <td>6.016405</td>\n",
       "      <td>4.634615</td>\n",
       "      <td>9.173673</td>\n",
       "      <td>5.638546</td>\n",
       "    </tr>\n",
       "    <tr>\n",
       "      <th>1</th>\n",
       "      <td>Introvert</td>\n",
       "      <td>7.080435</td>\n",
       "      <td>1.778909</td>\n",
       "      <td>1.272859</td>\n",
       "      <td>3.196793</td>\n",
       "      <td>1.368918</td>\n",
       "    </tr>\n",
       "  </tbody>\n",
       "</table>\n",
       "</div>"
      ],
      "text/plain": [
       "  Personality  Time_spent_Alone  Social_event_attendance  Going_outside  \\\n",
       "0   Extrovert          2.067261                 6.016405       4.634615   \n",
       "1   Introvert          7.080435                 1.778909       1.272859   \n",
       "\n",
       "   Friends_circle_size  Post_frequency  \n",
       "0             9.173673        5.638546  \n",
       "1             3.196793        1.368918  "
      ]
     },
     "metadata": {},
     "output_type": "display_data"
    }
   ],
   "source": [
    "summary_table = df.groupby('Personality').mean(numeric_only=True).reset_index()\n",
    "\n",
    "#Rata rata berdasarkan kepribadian\n",
    "print(\"\\nTabel Rata-Rata Berdasarkan Kepribadian:\")\n",
    "display(summary_table)"
   ]
  },
  {
   "cell_type": "code",
   "execution_count": 9,
   "id": "b6488ffc-187d-4c12-a5c1-41d64e9d2b03",
   "metadata": {},
   "outputs": [
    {
     "name": "stdout",
     "output_type": "stream",
     "text": [
      "\n",
      "Rata-rata per Kepribadian:\n",
      "             Time_spent_Alone  Social_event_attendance  Going_outside  \\\n",
      "Personality                                                             \n",
      "Extrovert            2.067261                 6.016405       4.634615   \n",
      "Introvert            7.080435                 1.778909       1.272859   \n",
      "\n",
      "             Friends_circle_size  Post_frequency  \n",
      "Personality                                       \n",
      "Extrovert               9.173673        5.638546  \n",
      "Introvert               3.196793        1.368918  \n"
     ]
    }
   ],
   "source": [
    "#Statistik Rata-Rata Berdasarkan Kepribadian\n",
    "grouped = df.groupby('Personality').mean(numeric_only=True)\n",
    "print(\"\\nRata-rata per Kepribadian:\")\n",
    "print(grouped)\n",
    "\n"
   ]
  },
  {
   "cell_type": "code",
   "execution_count": 11,
   "id": "5a2c3845-220f-4462-b380-a885d1f817c6",
   "metadata": {},
   "outputs": [
    {
     "name": "stdout",
     "output_type": "stream",
     "text": [
      "\n",
      "Tabel Korelasi Antar Variabel Numerik:\n"
     ]
    },
    {
     "data": {
      "text/html": [
       "<div>\n",
       "<style scoped>\n",
       "    .dataframe tbody tr th:only-of-type {\n",
       "        vertical-align: middle;\n",
       "    }\n",
       "\n",
       "    .dataframe tbody tr th {\n",
       "        vertical-align: top;\n",
       "    }\n",
       "\n",
       "    .dataframe thead th {\n",
       "        text-align: right;\n",
       "    }\n",
       "</style>\n",
       "<table border=\"1\" class=\"dataframe\">\n",
       "  <thead>\n",
       "    <tr style=\"text-align: right;\">\n",
       "      <th></th>\n",
       "      <th>Time_spent_Alone</th>\n",
       "      <th>Social_event_attendance</th>\n",
       "      <th>Going_outside</th>\n",
       "      <th>Friends_circle_size</th>\n",
       "      <th>Post_frequency</th>\n",
       "    </tr>\n",
       "  </thead>\n",
       "  <tbody>\n",
       "    <tr>\n",
       "      <th>Time_spent_Alone</th>\n",
       "      <td>1.000000</td>\n",
       "      <td>-0.733011</td>\n",
       "      <td>-0.750760</td>\n",
       "      <td>-0.717185</td>\n",
       "      <td>-0.732649</td>\n",
       "    </tr>\n",
       "    <tr>\n",
       "      <th>Social_event_attendance</th>\n",
       "      <td>-0.733011</td>\n",
       "      <td>1.000000</td>\n",
       "      <td>0.747756</td>\n",
       "      <td>0.734795</td>\n",
       "      <td>0.744615</td>\n",
       "    </tr>\n",
       "    <tr>\n",
       "      <th>Going_outside</th>\n",
       "      <td>-0.750760</td>\n",
       "      <td>0.747756</td>\n",
       "      <td>1.000000</td>\n",
       "      <td>0.736390</td>\n",
       "      <td>0.770819</td>\n",
       "    </tr>\n",
       "    <tr>\n",
       "      <th>Friends_circle_size</th>\n",
       "      <td>-0.717185</td>\n",
       "      <td>0.734795</td>\n",
       "      <td>0.736390</td>\n",
       "      <td>1.000000</td>\n",
       "      <td>0.707888</td>\n",
       "    </tr>\n",
       "    <tr>\n",
       "      <th>Post_frequency</th>\n",
       "      <td>-0.732649</td>\n",
       "      <td>0.744615</td>\n",
       "      <td>0.770819</td>\n",
       "      <td>0.707888</td>\n",
       "      <td>1.000000</td>\n",
       "    </tr>\n",
       "  </tbody>\n",
       "</table>\n",
       "</div>"
      ],
      "text/plain": [
       "                         Time_spent_Alone  Social_event_attendance  \\\n",
       "Time_spent_Alone                 1.000000                -0.733011   \n",
       "Social_event_attendance         -0.733011                 1.000000   \n",
       "Going_outside                   -0.750760                 0.747756   \n",
       "Friends_circle_size             -0.717185                 0.734795   \n",
       "Post_frequency                  -0.732649                 0.744615   \n",
       "\n",
       "                         Going_outside  Friends_circle_size  Post_frequency  \n",
       "Time_spent_Alone             -0.750760            -0.717185       -0.732649  \n",
       "Social_event_attendance       0.747756             0.734795        0.744615  \n",
       "Going_outside                 1.000000             0.736390        0.770819  \n",
       "Friends_circle_size           0.736390             1.000000        0.707888  \n",
       "Post_frequency                0.770819             0.707888        1.000000  "
      ]
     },
     "metadata": {},
     "output_type": "display_data"
    }
   ],
   "source": [
    "#korelasi antar tabel dan kolom\n",
    "correlation_table = df.corr(numeric_only=True)\n",
    "\n",
    "print(\"\\nTabel Korelasi Antar Variabel Numerik:\")\n",
    "display(correlation_table)\n",
    "#untuk melihat pengaruh antar kolom nya"
   ]
  },
  {
   "cell_type": "code",
   "execution_count": 13,
   "id": "346f9b3c-f3ea-4c3a-8cf5-6bc506e8c0dd",
   "metadata": {},
   "outputs": [
    {
     "name": "stdout",
     "output_type": "stream",
     "text": [
      "\n",
      "Tabel Rata-Rata Berdasarkan Stage Fear (Takut Panggung):\n"
     ]
    },
    {
     "data": {
      "text/html": [
       "<div>\n",
       "<style scoped>\n",
       "    .dataframe tbody tr th:only-of-type {\n",
       "        vertical-align: middle;\n",
       "    }\n",
       "\n",
       "    .dataframe tbody tr th {\n",
       "        vertical-align: top;\n",
       "    }\n",
       "\n",
       "    .dataframe thead th {\n",
       "        text-align: right;\n",
       "    }\n",
       "</style>\n",
       "<table border=\"1\" class=\"dataframe\">\n",
       "  <thead>\n",
       "    <tr style=\"text-align: right;\">\n",
       "      <th></th>\n",
       "      <th>Stage_fear</th>\n",
       "      <th>Time_spent_Alone</th>\n",
       "      <th>Social_event_attendance</th>\n",
       "      <th>Going_outside</th>\n",
       "      <th>Friends_circle_size</th>\n",
       "      <th>Post_frequency</th>\n",
       "    </tr>\n",
       "  </thead>\n",
       "  <tbody>\n",
       "    <tr>\n",
       "      <th>0</th>\n",
       "      <td>No</td>\n",
       "      <td>1.533237</td>\n",
       "      <td>6.433405</td>\n",
       "      <td>4.973247</td>\n",
       "      <td>9.825961</td>\n",
       "      <td>6.046965</td>\n",
       "    </tr>\n",
       "    <tr>\n",
       "      <th>1</th>\n",
       "      <td>Yes</td>\n",
       "      <td>7.514823</td>\n",
       "      <td>1.450653</td>\n",
       "      <td>1.005793</td>\n",
       "      <td>2.652838</td>\n",
       "      <td>1.051487</td>\n",
       "    </tr>\n",
       "  </tbody>\n",
       "</table>\n",
       "</div>"
      ],
      "text/plain": [
       "  Stage_fear  Time_spent_Alone  Social_event_attendance  Going_outside  \\\n",
       "0         No          1.533237                 6.433405       4.973247   \n",
       "1        Yes          7.514823                 1.450653       1.005793   \n",
       "\n",
       "   Friends_circle_size  Post_frequency  \n",
       "0             9.825961        6.046965  \n",
       "1             2.652838        1.051487  "
      ]
     },
     "metadata": {},
     "output_type": "display_data"
    }
   ],
   "source": [
    "stagefear_summary = df.groupby('Stage_fear').mean(numeric_only=True).reset_index()\n",
    "\n",
    "print(\"\\nTabel Rata-Rata Berdasarkan Stage Fear (Takut Panggung):\")\n",
    "display(stagefear_summary)\n"
   ]
  },
  {
   "cell_type": "code",
   "execution_count": 15,
   "id": "bada4c06-ff48-4b0a-9b76-afa9f29858be",
   "metadata": {},
   "outputs": [
    {
     "name": "stdout",
     "output_type": "stream",
     "text": [
      "\n",
      "Jumlah Orang Berdasarkan Kepribadian:\n"
     ]
    },
    {
     "data": {
      "text/html": [
       "<div>\n",
       "<style scoped>\n",
       "    .dataframe tbody tr th:only-of-type {\n",
       "        vertical-align: middle;\n",
       "    }\n",
       "\n",
       "    .dataframe tbody tr th {\n",
       "        vertical-align: top;\n",
       "    }\n",
       "\n",
       "    .dataframe thead th {\n",
       "        text-align: right;\n",
       "    }\n",
       "</style>\n",
       "<table border=\"1\" class=\"dataframe\">\n",
       "  <thead>\n",
       "    <tr style=\"text-align: right;\">\n",
       "      <th></th>\n",
       "      <th>Personality</th>\n",
       "      <th>Jumlah_Orang</th>\n",
       "    </tr>\n",
       "  </thead>\n",
       "  <tbody>\n",
       "    <tr>\n",
       "      <th>0</th>\n",
       "      <td>Extrovert</td>\n",
       "      <td>1491</td>\n",
       "    </tr>\n",
       "    <tr>\n",
       "      <th>1</th>\n",
       "      <td>Introvert</td>\n",
       "      <td>1409</td>\n",
       "    </tr>\n",
       "  </tbody>\n",
       "</table>\n",
       "</div>"
      ],
      "text/plain": [
       "  Personality  Jumlah_Orang\n",
       "0   Extrovert          1491\n",
       "1   Introvert          1409"
      ]
     },
     "metadata": {},
     "output_type": "display_data"
    }
   ],
   "source": [
    "personality_counts = df['Personality'].value_counts().reset_index()\n",
    "personality_counts.columns = ['Personality', 'Jumlah_Orang']\n",
    "\n",
    "print(\"\\nJumlah Orang Berdasarkan Kepribadian:\")\n",
    "display(personality_counts)"
   ]
  }
 ],
 "metadata": {
  "kernelspec": {
   "display_name": "Python [conda env:base] *",
   "language": "python",
   "name": "conda-base-py"
  },
  "language_info": {
   "codemirror_mode": {
    "name": "ipython",
    "version": 3
   },
   "file_extension": ".py",
   "mimetype": "text/x-python",
   "name": "python",
   "nbconvert_exporter": "python",
   "pygments_lexer": "ipython3",
   "version": "3.12.7"
  }
 },
 "nbformat": 4,
 "nbformat_minor": 5
}
