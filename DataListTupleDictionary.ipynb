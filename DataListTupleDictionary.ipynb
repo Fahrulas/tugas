{
 "cells": [
  {
   "cell_type": "code",
   "execution_count": 5,
   "id": "9122edfc-964a-4831-9446-c1ac02d16ccf",
   "metadata": {},
   "outputs": [],
   "source": [
    "mhs = {}"
   ]
  },
  {
   "cell_type": "code",
   "execution_count": 9,
   "id": "0346980c-3658-4292-81b7-dad74a53b0fe",
   "metadata": {},
   "outputs": [],
   "source": [
    "def MenuUtama():\n",
    "    print(\"\"\"\n",
    "    1.  Tambah Mahasiswa\n",
    "    2.  Tampilkan Seluruh Mahasiswa\n",
    "    3.  Cari Mahasiswa\n",
    "    4.  Update IPK Mahasiswa\n",
    "    5.  Hapus Mahasiswa\n",
    "    6.  Keluar Pilihan Anda:\n",
    "    \"\"\")\n",
    "    return int(input(\"Masukan Pilihan\"))\n",
    "\n",
    "def TambahPelajar():\n",
    "    NIM = int(input(\"Masukan NIM : \"))\n",
    "    nama = input(\"Masukan nama : \")\n",
    "    jurusan = input(\"Masukan jurusan : \")\n",
    "    IPK = float(input(\"Masukan IPK : \"))\n",
    "    mhs[NIM] = (nama,jurusan,IPK)\n",
    "\n",
    "def CariPelajar():\n",
    "    NIM = int(input(\"Masukan NIM yang ingin dicari : \"))\n",
    "    print(f\" NIM: {NIM} \\t Nama: {mhs[NIM][0]} \\t jurusan: {mhs[NIM][1]} \\t IPK: {mhs[NIM][2]}\")\n",
    "\n",
    "def editIPK():\n",
    "    NIM = int(input(\"Masukan NIM : \"))\n",
    "    nama,jurusan,IPK = mhs[NIM][0],mhs[NIM][1],mhs[NIM][2]\n",
    "    IPK = float(input(\"Masukan Nilai IPK : \"))\n",
    "    mhs[NIM]=(nama,jurusan,IPK)\n",
    "    print(\"IPK sudah di update\")\n",
    "\n",
    "def DoPelajar():\n",
    "    NIM = int(input(\"Masukan data NIM yang ingin di hapus : \"))\n",
    "    mhs.pop(NIM)"
   ]
  },
  {
   "cell_type": "code",
   "execution_count": 11,
   "id": "757d8d41-5288-426f-a51b-59afa12820af",
   "metadata": {},
   "outputs": [
    {
     "name": "stdout",
     "output_type": "stream",
     "text": [
      "\n",
      "    1.  Tambah Mahasiswa\n",
      "    2.  Tampilkan Seluruh Mahasiswa\n",
      "    3.  Cari Mahasiswa\n",
      "    4.  Update IPK Mahasiswa\n",
      "    5.  Hapus Mahasiswa\n",
      "    6.  Keluar Pilihan Anda:\n",
      "    \n"
     ]
    },
    {
     "name": "stdin",
     "output_type": "stream",
     "text": [
      "Masukan Pilihan 6\n"
     ]
    },
    {
     "name": "stdout",
     "output_type": "stream",
     "text": [
      "Anda di DO\n"
     ]
    }
   ],
   "source": [
    "while True:\n",
    "    choose = MenuUtama()\n",
    "    if choose == 1:\n",
    "        TambahPelajar()\n",
    "    elif choose ==2:\n",
    "        for key,value in mhs.items():\n",
    "            print(f\" NIM: {key} \\t Nama: {value[0]} \\t jurusan: {value[1]} \\t IPK: {value[2]}\")\n",
    "    elif choose ==3:\n",
    "        CariPelajar()\n",
    "    elif choose ==4:\n",
    "        editIPK()\n",
    "    elif choose == 5:\n",
    "        DoPelajar()\n",
    "        print(\"Mahasiswa sudah di DO\")\n",
    "    elif choose == 6:\n",
    "        print(\"Anda di DO\")\n",
    "        break\n"
   ]
  },
  {
   "cell_type": "code",
   "execution_count": null,
   "id": "b1ef6c1f-b8ea-4294-9bff-3c897079b29f",
   "metadata": {},
   "outputs": [],
   "source": []
  }
 ],
 "metadata": {
  "kernelspec": {
   "display_name": "Python [conda env:base] *",
   "language": "python",
   "name": "conda-base-py"
  },
  "language_info": {
   "codemirror_mode": {
    "name": "ipython",
    "version": 3
   },
   "file_extension": ".py",
   "mimetype": "text/x-python",
   "name": "python",
   "nbconvert_exporter": "python",
   "pygments_lexer": "ipython3",
   "version": "3.12.7"
  }
 },
 "nbformat": 4,
 "nbformat_minor": 5
}
