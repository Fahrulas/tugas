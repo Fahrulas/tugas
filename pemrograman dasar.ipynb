{
 "cells": [
  {
   "cell_type": "markdown",
   "id": "69b1a673-a7d8-4568-b2b0-1629a3aedfac",
   "metadata": {},
   "source": [
    "<center>\n",
    "<img src=\"https://logos-world.net/wp-content/uploads/2021/10/Python-Logo.png\" width=\"200\">\n",
    "</center>\n",
    "<br>\n",
    "<b>Cell</b> di jupyter ada 2 jenis:\n",
    "<ol>\n",
    "    <li>Mark Down - <b>(M)</b></li>\n",
    "    <li>Code - <b>(Y)</b></li>\n",
    "</ol>\n",
    "<hr>\n",
    "\n"
   ]
  },
  {
   "cell_type": "markdown",
   "id": "b0a3c74c-510d-490f-92f7-f4409f268cb3",
   "metadata": {},
   "source": [
    "cara menambahkan cell ada 2:\n",
    "<ul>\n",
    "    <b>\n",
    "    <li>A (above) diatas cell</li>\n",
    "    <li>B (below) dibawah cell</li>\n",
    "        </b>\n",
    "</ul>\n",
    "<table>\n",
    "    <tr>\n",
    "    <td>NIM</td>\n",
    "    <td>:</td>\n",
    "    <td><b>20240040165</b></td>\n",
    "    </tr>\n",
    "    <tr>\n",
    "        <td>Nama</td>\n",
    "        <td>:</td>\n",
    "        <td><b>Deni Aditya</b></td>\n",
    "    </tr>\n",
    "    <tr>\n",
    "        <td>Kelas</td>\n",
    "        <td>:</td>\n",
    "        <td><b>TI24G</b></td>\n",
    "    </tr>\n",
    "</table>"
   ]
  },
  {
   "cell_type": "code",
   "execution_count": 7,
   "id": "56f793d7-464f-4536-b4e1-14b4fff5be23",
   "metadata": {},
   "outputs": [
    {
     "name": "stdout",
     "output_type": "stream",
     "text": [
      "python is very easy\n",
      "sekarang hari jum'at\n",
      "Deklarasi variabel \"A\"\n",
      "5\n"
     ]
    },
    {
     "data": {
      "text/plain": [
       "'54'"
      ]
     },
     "execution_count": 7,
     "metadata": {},
     "output_type": "execute_result"
    }
   ],
   "source": [
    "print(\"python is very easy\")\n",
    "print(\"sekarang hari jum'at\")\n",
    "print('Deklarasi variabel \"A\"')\n",
    "number = \"5\"\n",
    "print(number)\n",
    "int (number) + 10\n",
    "number + \"4\"\n"
   ]
  },
  {
   "cell_type": "markdown",
   "id": "ecb0a88c-71d0-4e11-acce-918580e22627",
   "metadata": {},
   "source": []
  },
  {
   "cell_type": "markdown",
   "id": "23bb9704-4fbc-4aa7-a2b4-4921407506d0",
   "metadata": {},
   "source": []
  },
  {
   "cell_type": "markdown",
   "id": "ef0da05b-3c77-4a1d-8d90-50d877940aa2",
   "metadata": {},
   "source": []
  }
 ],
 "metadata": {
  "kernelspec": {
   "display_name": "Python 3 (ipykernel)",
   "language": "python",
   "name": "python3"
  },
  "language_info": {
   "codemirror_mode": {
    "name": "ipython",
    "version": 3
   },
   "file_extension": ".py",
   "mimetype": "text/x-python",
   "name": "python",
   "nbconvert_exporter": "python",
   "pygments_lexer": "ipython3",
   "version": "3.12.7"
  }
 },
 "nbformat": 4,
 "nbformat_minor": 5
}
